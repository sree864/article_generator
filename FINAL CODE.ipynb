{
  "nbformat": 4,
  "nbformat_minor": 0,
  "metadata": {
    "colab": {
      "provenance": [],
      "collapsed_sections": [
        "00vXXUJtXpXw",
        "SS7nHgEndZa8",
        "mD0Xmk_ozRlL",
        "aJ_l0GEqUFte"
      ]
    },
    "kernelspec": {
      "name": "python3",
      "display_name": "Python 3"
    },
    "language_info": {
      "name": "python"
    },
    "widgets": {
      "application/vnd.jupyter.widget-state+json": {
        "f350793d9e6b4ec39749845a63aedfe2": {
          "model_module": "@jupyter-widgets/controls",
          "model_name": "HBoxModel",
          "model_module_version": "1.5.0",
          "state": {
            "_dom_classes": [],
            "_model_module": "@jupyter-widgets/controls",
            "_model_module_version": "1.5.0",
            "_model_name": "HBoxModel",
            "_view_count": null,
            "_view_module": "@jupyter-widgets/controls",
            "_view_module_version": "1.5.0",
            "_view_name": "HBoxView",
            "box_style": "",
            "children": [
              "IPY_MODEL_388c324db00d424daff59e30b641895b",
              "IPY_MODEL_af10b04dbf2f4bc39d8341cdf5b275e3",
              "IPY_MODEL_d2e7aed46d404aeaaaa177fbdc491513"
            ],
            "layout": "IPY_MODEL_7d4521cccc70411298aef1fd5fe11ca1"
          }
        },
        "388c324db00d424daff59e30b641895b": {
          "model_module": "@jupyter-widgets/controls",
          "model_name": "HTMLModel",
          "model_module_version": "1.5.0",
          "state": {
            "_dom_classes": [],
            "_model_module": "@jupyter-widgets/controls",
            "_model_module_version": "1.5.0",
            "_model_name": "HTMLModel",
            "_view_count": null,
            "_view_module": "@jupyter-widgets/controls",
            "_view_module_version": "1.5.0",
            "_view_name": "HTMLView",
            "description": "",
            "description_tooltip": null,
            "layout": "IPY_MODEL_d0304ec0fa794476aaf7721517eef33e",
            "placeholder": "​",
            "style": "IPY_MODEL_15a4182657c344308ff5f8ad0e2d63b6",
            "value": "Downloading (…)lve/main/config.json: 100%"
          }
        },
        "af10b04dbf2f4bc39d8341cdf5b275e3": {
          "model_module": "@jupyter-widgets/controls",
          "model_name": "FloatProgressModel",
          "model_module_version": "1.5.0",
          "state": {
            "_dom_classes": [],
            "_model_module": "@jupyter-widgets/controls",
            "_model_module_version": "1.5.0",
            "_model_name": "FloatProgressModel",
            "_view_count": null,
            "_view_module": "@jupyter-widgets/controls",
            "_view_module_version": "1.5.0",
            "_view_name": "ProgressView",
            "bar_style": "success",
            "description": "",
            "description_tooltip": null,
            "layout": "IPY_MODEL_b703cb1a5f78460581e1fcee53b4ab9e",
            "max": 1206,
            "min": 0,
            "orientation": "horizontal",
            "style": "IPY_MODEL_39d2e0ec7ede4e7a8d7e32c60100dd41",
            "value": 1206
          }
        },
        "d2e7aed46d404aeaaaa177fbdc491513": {
          "model_module": "@jupyter-widgets/controls",
          "model_name": "HTMLModel",
          "model_module_version": "1.5.0",
          "state": {
            "_dom_classes": [],
            "_model_module": "@jupyter-widgets/controls",
            "_model_module_version": "1.5.0",
            "_model_name": "HTMLModel",
            "_view_count": null,
            "_view_module": "@jupyter-widgets/controls",
            "_view_module_version": "1.5.0",
            "_view_name": "HTMLView",
            "description": "",
            "description_tooltip": null,
            "layout": "IPY_MODEL_3e1548ecdb63488b8abc8f90e44ef055",
            "placeholder": "​",
            "style": "IPY_MODEL_a6619fd5ca134d3e84f53e9beae3370b",
            "value": " 1.21k/1.21k [00:00&lt;00:00, 28.8kB/s]"
          }
        },
        "7d4521cccc70411298aef1fd5fe11ca1": {
          "model_module": "@jupyter-widgets/base",
          "model_name": "LayoutModel",
          "model_module_version": "1.2.0",
          "state": {
            "_model_module": "@jupyter-widgets/base",
            "_model_module_version": "1.2.0",
            "_model_name": "LayoutModel",
            "_view_count": null,
            "_view_module": "@jupyter-widgets/base",
            "_view_module_version": "1.2.0",
            "_view_name": "LayoutView",
            "align_content": null,
            "align_items": null,
            "align_self": null,
            "border": null,
            "bottom": null,
            "display": null,
            "flex": null,
            "flex_flow": null,
            "grid_area": null,
            "grid_auto_columns": null,
            "grid_auto_flow": null,
            "grid_auto_rows": null,
            "grid_column": null,
            "grid_gap": null,
            "grid_row": null,
            "grid_template_areas": null,
            "grid_template_columns": null,
            "grid_template_rows": null,
            "height": null,
            "justify_content": null,
            "justify_items": null,
            "left": null,
            "margin": null,
            "max_height": null,
            "max_width": null,
            "min_height": null,
            "min_width": null,
            "object_fit": null,
            "object_position": null,
            "order": null,
            "overflow": null,
            "overflow_x": null,
            "overflow_y": null,
            "padding": null,
            "right": null,
            "top": null,
            "visibility": null,
            "width": null
          }
        },
        "d0304ec0fa794476aaf7721517eef33e": {
          "model_module": "@jupyter-widgets/base",
          "model_name": "LayoutModel",
          "model_module_version": "1.2.0",
          "state": {
            "_model_module": "@jupyter-widgets/base",
            "_model_module_version": "1.2.0",
            "_model_name": "LayoutModel",
            "_view_count": null,
            "_view_module": "@jupyter-widgets/base",
            "_view_module_version": "1.2.0",
            "_view_name": "LayoutView",
            "align_content": null,
            "align_items": null,
            "align_self": null,
            "border": null,
            "bottom": null,
            "display": null,
            "flex": null,
            "flex_flow": null,
            "grid_area": null,
            "grid_auto_columns": null,
            "grid_auto_flow": null,
            "grid_auto_rows": null,
            "grid_column": null,
            "grid_gap": null,
            "grid_row": null,
            "grid_template_areas": null,
            "grid_template_columns": null,
            "grid_template_rows": null,
            "height": null,
            "justify_content": null,
            "justify_items": null,
            "left": null,
            "margin": null,
            "max_height": null,
            "max_width": null,
            "min_height": null,
            "min_width": null,
            "object_fit": null,
            "object_position": null,
            "order": null,
            "overflow": null,
            "overflow_x": null,
            "overflow_y": null,
            "padding": null,
            "right": null,
            "top": null,
            "visibility": null,
            "width": null
          }
        },
        "15a4182657c344308ff5f8ad0e2d63b6": {
          "model_module": "@jupyter-widgets/controls",
          "model_name": "DescriptionStyleModel",
          "model_module_version": "1.5.0",
          "state": {
            "_model_module": "@jupyter-widgets/controls",
            "_model_module_version": "1.5.0",
            "_model_name": "DescriptionStyleModel",
            "_view_count": null,
            "_view_module": "@jupyter-widgets/base",
            "_view_module_version": "1.2.0",
            "_view_name": "StyleView",
            "description_width": ""
          }
        },
        "b703cb1a5f78460581e1fcee53b4ab9e": {
          "model_module": "@jupyter-widgets/base",
          "model_name": "LayoutModel",
          "model_module_version": "1.2.0",
          "state": {
            "_model_module": "@jupyter-widgets/base",
            "_model_module_version": "1.2.0",
            "_model_name": "LayoutModel",
            "_view_count": null,
            "_view_module": "@jupyter-widgets/base",
            "_view_module_version": "1.2.0",
            "_view_name": "LayoutView",
            "align_content": null,
            "align_items": null,
            "align_self": null,
            "border": null,
            "bottom": null,
            "display": null,
            "flex": null,
            "flex_flow": null,
            "grid_area": null,
            "grid_auto_columns": null,
            "grid_auto_flow": null,
            "grid_auto_rows": null,
            "grid_column": null,
            "grid_gap": null,
            "grid_row": null,
            "grid_template_areas": null,
            "grid_template_columns": null,
            "grid_template_rows": null,
            "height": null,
            "justify_content": null,
            "justify_items": null,
            "left": null,
            "margin": null,
            "max_height": null,
            "max_width": null,
            "min_height": null,
            "min_width": null,
            "object_fit": null,
            "object_position": null,
            "order": null,
            "overflow": null,
            "overflow_x": null,
            "overflow_y": null,
            "padding": null,
            "right": null,
            "top": null,
            "visibility": null,
            "width": null
          }
        },
        "39d2e0ec7ede4e7a8d7e32c60100dd41": {
          "model_module": "@jupyter-widgets/controls",
          "model_name": "ProgressStyleModel",
          "model_module_version": "1.5.0",
          "state": {
            "_model_module": "@jupyter-widgets/controls",
            "_model_module_version": "1.5.0",
            "_model_name": "ProgressStyleModel",
            "_view_count": null,
            "_view_module": "@jupyter-widgets/base",
            "_view_module_version": "1.2.0",
            "_view_name": "StyleView",
            "bar_color": null,
            "description_width": ""
          }
        },
        "3e1548ecdb63488b8abc8f90e44ef055": {
          "model_module": "@jupyter-widgets/base",
          "model_name": "LayoutModel",
          "model_module_version": "1.2.0",
          "state": {
            "_model_module": "@jupyter-widgets/base",
            "_model_module_version": "1.2.0",
            "_model_name": "LayoutModel",
            "_view_count": null,
            "_view_module": "@jupyter-widgets/base",
            "_view_module_version": "1.2.0",
            "_view_name": "LayoutView",
            "align_content": null,
            "align_items": null,
            "align_self": null,
            "border": null,
            "bottom": null,
            "display": null,
            "flex": null,
            "flex_flow": null,
            "grid_area": null,
            "grid_auto_columns": null,
            "grid_auto_flow": null,
            "grid_auto_rows": null,
            "grid_column": null,
            "grid_gap": null,
            "grid_row": null,
            "grid_template_areas": null,
            "grid_template_columns": null,
            "grid_template_rows": null,
            "height": null,
            "justify_content": null,
            "justify_items": null,
            "left": null,
            "margin": null,
            "max_height": null,
            "max_width": null,
            "min_height": null,
            "min_width": null,
            "object_fit": null,
            "object_position": null,
            "order": null,
            "overflow": null,
            "overflow_x": null,
            "overflow_y": null,
            "padding": null,
            "right": null,
            "top": null,
            "visibility": null,
            "width": null
          }
        },
        "a6619fd5ca134d3e84f53e9beae3370b": {
          "model_module": "@jupyter-widgets/controls",
          "model_name": "DescriptionStyleModel",
          "model_module_version": "1.5.0",
          "state": {
            "_model_module": "@jupyter-widgets/controls",
            "_model_module_version": "1.5.0",
            "_model_name": "DescriptionStyleModel",
            "_view_count": null,
            "_view_module": "@jupyter-widgets/base",
            "_view_module_version": "1.2.0",
            "_view_name": "StyleView",
            "description_width": ""
          }
        },
        "7dd222f59def45499126c7a5903b5229": {
          "model_module": "@jupyter-widgets/controls",
          "model_name": "HBoxModel",
          "model_module_version": "1.5.0",
          "state": {
            "_dom_classes": [],
            "_model_module": "@jupyter-widgets/controls",
            "_model_module_version": "1.5.0",
            "_model_name": "HBoxModel",
            "_view_count": null,
            "_view_module": "@jupyter-widgets/controls",
            "_view_module_version": "1.5.0",
            "_view_name": "HBoxView",
            "box_style": "",
            "children": [
              "IPY_MODEL_b015f18d40df414788f764e92006d0fb",
              "IPY_MODEL_f4c30519df154393abc8d9069e626a38",
              "IPY_MODEL_cc69d1777eff49bf864029e4151684f7"
            ],
            "layout": "IPY_MODEL_a7b8478dcc054990bd3247f29df772ea"
          }
        },
        "b015f18d40df414788f764e92006d0fb": {
          "model_module": "@jupyter-widgets/controls",
          "model_name": "HTMLModel",
          "model_module_version": "1.5.0",
          "state": {
            "_dom_classes": [],
            "_model_module": "@jupyter-widgets/controls",
            "_model_module_version": "1.5.0",
            "_model_name": "HTMLModel",
            "_view_count": null,
            "_view_module": "@jupyter-widgets/controls",
            "_view_module_version": "1.5.0",
            "_view_name": "HTMLView",
            "description": "",
            "description_tooltip": null,
            "layout": "IPY_MODEL_f65053a5ad654c5d8b2d0ce8f266303d",
            "placeholder": "​",
            "style": "IPY_MODEL_6b2155944fb14469bff2205e9711d838",
            "value": "Downloading pytorch_model.bin: 100%"
          }
        },
        "f4c30519df154393abc8d9069e626a38": {
          "model_module": "@jupyter-widgets/controls",
          "model_name": "FloatProgressModel",
          "model_module_version": "1.5.0",
          "state": {
            "_dom_classes": [],
            "_model_module": "@jupyter-widgets/controls",
            "_model_module_version": "1.5.0",
            "_model_name": "FloatProgressModel",
            "_view_count": null,
            "_view_module": "@jupyter-widgets/controls",
            "_view_module_version": "1.5.0",
            "_view_name": "ProgressView",
            "bar_style": "success",
            "description": "",
            "description_tooltip": null,
            "layout": "IPY_MODEL_2b872b19a3314000b3cd88d15536b7e3",
            "max": 242065649,
            "min": 0,
            "orientation": "horizontal",
            "style": "IPY_MODEL_a939254c050c40f98cce583ab71d8bd9",
            "value": 242065649
          }
        },
        "cc69d1777eff49bf864029e4151684f7": {
          "model_module": "@jupyter-widgets/controls",
          "model_name": "HTMLModel",
          "model_module_version": "1.5.0",
          "state": {
            "_dom_classes": [],
            "_model_module": "@jupyter-widgets/controls",
            "_model_module_version": "1.5.0",
            "_model_name": "HTMLModel",
            "_view_count": null,
            "_view_module": "@jupyter-widgets/controls",
            "_view_module_version": "1.5.0",
            "_view_name": "HTMLView",
            "description": "",
            "description_tooltip": null,
            "layout": "IPY_MODEL_720ed108f4ee45ad9f5c313ac7fd4b6d",
            "placeholder": "​",
            "style": "IPY_MODEL_0f392b8ef20e466d81038d73b9430596",
            "value": " 242M/242M [00:03&lt;00:00, 91.4MB/s]"
          }
        },
        "a7b8478dcc054990bd3247f29df772ea": {
          "model_module": "@jupyter-widgets/base",
          "model_name": "LayoutModel",
          "model_module_version": "1.2.0",
          "state": {
            "_model_module": "@jupyter-widgets/base",
            "_model_module_version": "1.2.0",
            "_model_name": "LayoutModel",
            "_view_count": null,
            "_view_module": "@jupyter-widgets/base",
            "_view_module_version": "1.2.0",
            "_view_name": "LayoutView",
            "align_content": null,
            "align_items": null,
            "align_self": null,
            "border": null,
            "bottom": null,
            "display": null,
            "flex": null,
            "flex_flow": null,
            "grid_area": null,
            "grid_auto_columns": null,
            "grid_auto_flow": null,
            "grid_auto_rows": null,
            "grid_column": null,
            "grid_gap": null,
            "grid_row": null,
            "grid_template_areas": null,
            "grid_template_columns": null,
            "grid_template_rows": null,
            "height": null,
            "justify_content": null,
            "justify_items": null,
            "left": null,
            "margin": null,
            "max_height": null,
            "max_width": null,
            "min_height": null,
            "min_width": null,
            "object_fit": null,
            "object_position": null,
            "order": null,
            "overflow": null,
            "overflow_x": null,
            "overflow_y": null,
            "padding": null,
            "right": null,
            "top": null,
            "visibility": null,
            "width": null
          }
        },
        "f65053a5ad654c5d8b2d0ce8f266303d": {
          "model_module": "@jupyter-widgets/base",
          "model_name": "LayoutModel",
          "model_module_version": "1.2.0",
          "state": {
            "_model_module": "@jupyter-widgets/base",
            "_model_module_version": "1.2.0",
            "_model_name": "LayoutModel",
            "_view_count": null,
            "_view_module": "@jupyter-widgets/base",
            "_view_module_version": "1.2.0",
            "_view_name": "LayoutView",
            "align_content": null,
            "align_items": null,
            "align_self": null,
            "border": null,
            "bottom": null,
            "display": null,
            "flex": null,
            "flex_flow": null,
            "grid_area": null,
            "grid_auto_columns": null,
            "grid_auto_flow": null,
            "grid_auto_rows": null,
            "grid_column": null,
            "grid_gap": null,
            "grid_row": null,
            "grid_template_areas": null,
            "grid_template_columns": null,
            "grid_template_rows": null,
            "height": null,
            "justify_content": null,
            "justify_items": null,
            "left": null,
            "margin": null,
            "max_height": null,
            "max_width": null,
            "min_height": null,
            "min_width": null,
            "object_fit": null,
            "object_position": null,
            "order": null,
            "overflow": null,
            "overflow_x": null,
            "overflow_y": null,
            "padding": null,
            "right": null,
            "top": null,
            "visibility": null,
            "width": null
          }
        },
        "6b2155944fb14469bff2205e9711d838": {
          "model_module": "@jupyter-widgets/controls",
          "model_name": "DescriptionStyleModel",
          "model_module_version": "1.5.0",
          "state": {
            "_model_module": "@jupyter-widgets/controls",
            "_model_module_version": "1.5.0",
            "_model_name": "DescriptionStyleModel",
            "_view_count": null,
            "_view_module": "@jupyter-widgets/base",
            "_view_module_version": "1.2.0",
            "_view_name": "StyleView",
            "description_width": ""
          }
        },
        "2b872b19a3314000b3cd88d15536b7e3": {
          "model_module": "@jupyter-widgets/base",
          "model_name": "LayoutModel",
          "model_module_version": "1.2.0",
          "state": {
            "_model_module": "@jupyter-widgets/base",
            "_model_module_version": "1.2.0",
            "_model_name": "LayoutModel",
            "_view_count": null,
            "_view_module": "@jupyter-widgets/base",
            "_view_module_version": "1.2.0",
            "_view_name": "LayoutView",
            "align_content": null,
            "align_items": null,
            "align_self": null,
            "border": null,
            "bottom": null,
            "display": null,
            "flex": null,
            "flex_flow": null,
            "grid_area": null,
            "grid_auto_columns": null,
            "grid_auto_flow": null,
            "grid_auto_rows": null,
            "grid_column": null,
            "grid_gap": null,
            "grid_row": null,
            "grid_template_areas": null,
            "grid_template_columns": null,
            "grid_template_rows": null,
            "height": null,
            "justify_content": null,
            "justify_items": null,
            "left": null,
            "margin": null,
            "max_height": null,
            "max_width": null,
            "min_height": null,
            "min_width": null,
            "object_fit": null,
            "object_position": null,
            "order": null,
            "overflow": null,
            "overflow_x": null,
            "overflow_y": null,
            "padding": null,
            "right": null,
            "top": null,
            "visibility": null,
            "width": null
          }
        },
        "a939254c050c40f98cce583ab71d8bd9": {
          "model_module": "@jupyter-widgets/controls",
          "model_name": "ProgressStyleModel",
          "model_module_version": "1.5.0",
          "state": {
            "_model_module": "@jupyter-widgets/controls",
            "_model_module_version": "1.5.0",
            "_model_name": "ProgressStyleModel",
            "_view_count": null,
            "_view_module": "@jupyter-widgets/base",
            "_view_module_version": "1.2.0",
            "_view_name": "StyleView",
            "bar_color": null,
            "description_width": ""
          }
        },
        "720ed108f4ee45ad9f5c313ac7fd4b6d": {
          "model_module": "@jupyter-widgets/base",
          "model_name": "LayoutModel",
          "model_module_version": "1.2.0",
          "state": {
            "_model_module": "@jupyter-widgets/base",
            "_model_module_version": "1.2.0",
            "_model_name": "LayoutModel",
            "_view_count": null,
            "_view_module": "@jupyter-widgets/base",
            "_view_module_version": "1.2.0",
            "_view_name": "LayoutView",
            "align_content": null,
            "align_items": null,
            "align_self": null,
            "border": null,
            "bottom": null,
            "display": null,
            "flex": null,
            "flex_flow": null,
            "grid_area": null,
            "grid_auto_columns": null,
            "grid_auto_flow": null,
            "grid_auto_rows": null,
            "grid_column": null,
            "grid_gap": null,
            "grid_row": null,
            "grid_template_areas": null,
            "grid_template_columns": null,
            "grid_template_rows": null,
            "height": null,
            "justify_content": null,
            "justify_items": null,
            "left": null,
            "margin": null,
            "max_height": null,
            "max_width": null,
            "min_height": null,
            "min_width": null,
            "object_fit": null,
            "object_position": null,
            "order": null,
            "overflow": null,
            "overflow_x": null,
            "overflow_y": null,
            "padding": null,
            "right": null,
            "top": null,
            "visibility": null,
            "width": null
          }
        },
        "0f392b8ef20e466d81038d73b9430596": {
          "model_module": "@jupyter-widgets/controls",
          "model_name": "DescriptionStyleModel",
          "model_module_version": "1.5.0",
          "state": {
            "_model_module": "@jupyter-widgets/controls",
            "_model_module_version": "1.5.0",
            "_model_name": "DescriptionStyleModel",
            "_view_count": null,
            "_view_module": "@jupyter-widgets/base",
            "_view_module_version": "1.2.0",
            "_view_name": "StyleView",
            "description_width": ""
          }
        },
        "5351753907af440d8cd52b8cee16b6e5": {
          "model_module": "@jupyter-widgets/controls",
          "model_name": "HBoxModel",
          "model_module_version": "1.5.0",
          "state": {
            "_dom_classes": [],
            "_model_module": "@jupyter-widgets/controls",
            "_model_module_version": "1.5.0",
            "_model_name": "HBoxModel",
            "_view_count": null,
            "_view_module": "@jupyter-widgets/controls",
            "_view_module_version": "1.5.0",
            "_view_name": "HBoxView",
            "box_style": "",
            "children": [
              "IPY_MODEL_967f6436f5374b46af27273321b1aa55",
              "IPY_MODEL_6643576221f44357a1d46ee1366abe78",
              "IPY_MODEL_b0815c81dc4e4774abbe32143de11fa5"
            ],
            "layout": "IPY_MODEL_21be4587076847f2a5e1b89cf00d7121"
          }
        },
        "967f6436f5374b46af27273321b1aa55": {
          "model_module": "@jupyter-widgets/controls",
          "model_name": "HTMLModel",
          "model_module_version": "1.5.0",
          "state": {
            "_dom_classes": [],
            "_model_module": "@jupyter-widgets/controls",
            "_model_module_version": "1.5.0",
            "_model_name": "HTMLModel",
            "_view_count": null,
            "_view_module": "@jupyter-widgets/controls",
            "_view_module_version": "1.5.0",
            "_view_name": "HTMLView",
            "description": "",
            "description_tooltip": null,
            "layout": "IPY_MODEL_ad2bb9d5662748b5927c04e1407f6ecc",
            "placeholder": "​",
            "style": "IPY_MODEL_7cab4798ae7342bf8af55f92f7281b7d",
            "value": "Downloading (…)neration_config.json: 100%"
          }
        },
        "6643576221f44357a1d46ee1366abe78": {
          "model_module": "@jupyter-widgets/controls",
          "model_name": "FloatProgressModel",
          "model_module_version": "1.5.0",
          "state": {
            "_dom_classes": [],
            "_model_module": "@jupyter-widgets/controls",
            "_model_module_version": "1.5.0",
            "_model_name": "FloatProgressModel",
            "_view_count": null,
            "_view_module": "@jupyter-widgets/controls",
            "_view_module_version": "1.5.0",
            "_view_name": "ProgressView",
            "bar_style": "success",
            "description": "",
            "description_tooltip": null,
            "layout": "IPY_MODEL_acf49332f6b941c29eeca70b68a5bdf5",
            "max": 147,
            "min": 0,
            "orientation": "horizontal",
            "style": "IPY_MODEL_98d9d524ecf14949829d9b050cb05da3",
            "value": 147
          }
        },
        "b0815c81dc4e4774abbe32143de11fa5": {
          "model_module": "@jupyter-widgets/controls",
          "model_name": "HTMLModel",
          "model_module_version": "1.5.0",
          "state": {
            "_dom_classes": [],
            "_model_module": "@jupyter-widgets/controls",
            "_model_module_version": "1.5.0",
            "_model_name": "HTMLModel",
            "_view_count": null,
            "_view_module": "@jupyter-widgets/controls",
            "_view_module_version": "1.5.0",
            "_view_name": "HTMLView",
            "description": "",
            "description_tooltip": null,
            "layout": "IPY_MODEL_f7b9584bc8a94c3ebcdd439e4684c434",
            "placeholder": "​",
            "style": "IPY_MODEL_94031f09ec8b4b63a30896fa3d0d923b",
            "value": " 147/147 [00:00&lt;00:00, 2.13kB/s]"
          }
        },
        "21be4587076847f2a5e1b89cf00d7121": {
          "model_module": "@jupyter-widgets/base",
          "model_name": "LayoutModel",
          "model_module_version": "1.2.0",
          "state": {
            "_model_module": "@jupyter-widgets/base",
            "_model_module_version": "1.2.0",
            "_model_name": "LayoutModel",
            "_view_count": null,
            "_view_module": "@jupyter-widgets/base",
            "_view_module_version": "1.2.0",
            "_view_name": "LayoutView",
            "align_content": null,
            "align_items": null,
            "align_self": null,
            "border": null,
            "bottom": null,
            "display": null,
            "flex": null,
            "flex_flow": null,
            "grid_area": null,
            "grid_auto_columns": null,
            "grid_auto_flow": null,
            "grid_auto_rows": null,
            "grid_column": null,
            "grid_gap": null,
            "grid_row": null,
            "grid_template_areas": null,
            "grid_template_columns": null,
            "grid_template_rows": null,
            "height": null,
            "justify_content": null,
            "justify_items": null,
            "left": null,
            "margin": null,
            "max_height": null,
            "max_width": null,
            "min_height": null,
            "min_width": null,
            "object_fit": null,
            "object_position": null,
            "order": null,
            "overflow": null,
            "overflow_x": null,
            "overflow_y": null,
            "padding": null,
            "right": null,
            "top": null,
            "visibility": null,
            "width": null
          }
        },
        "ad2bb9d5662748b5927c04e1407f6ecc": {
          "model_module": "@jupyter-widgets/base",
          "model_name": "LayoutModel",
          "model_module_version": "1.2.0",
          "state": {
            "_model_module": "@jupyter-widgets/base",
            "_model_module_version": "1.2.0",
            "_model_name": "LayoutModel",
            "_view_count": null,
            "_view_module": "@jupyter-widgets/base",
            "_view_module_version": "1.2.0",
            "_view_name": "LayoutView",
            "align_content": null,
            "align_items": null,
            "align_self": null,
            "border": null,
            "bottom": null,
            "display": null,
            "flex": null,
            "flex_flow": null,
            "grid_area": null,
            "grid_auto_columns": null,
            "grid_auto_flow": null,
            "grid_auto_rows": null,
            "grid_column": null,
            "grid_gap": null,
            "grid_row": null,
            "grid_template_areas": null,
            "grid_template_columns": null,
            "grid_template_rows": null,
            "height": null,
            "justify_content": null,
            "justify_items": null,
            "left": null,
            "margin": null,
            "max_height": null,
            "max_width": null,
            "min_height": null,
            "min_width": null,
            "object_fit": null,
            "object_position": null,
            "order": null,
            "overflow": null,
            "overflow_x": null,
            "overflow_y": null,
            "padding": null,
            "right": null,
            "top": null,
            "visibility": null,
            "width": null
          }
        },
        "7cab4798ae7342bf8af55f92f7281b7d": {
          "model_module": "@jupyter-widgets/controls",
          "model_name": "DescriptionStyleModel",
          "model_module_version": "1.5.0",
          "state": {
            "_model_module": "@jupyter-widgets/controls",
            "_model_module_version": "1.5.0",
            "_model_name": "DescriptionStyleModel",
            "_view_count": null,
            "_view_module": "@jupyter-widgets/base",
            "_view_module_version": "1.2.0",
            "_view_name": "StyleView",
            "description_width": ""
          }
        },
        "acf49332f6b941c29eeca70b68a5bdf5": {
          "model_module": "@jupyter-widgets/base",
          "model_name": "LayoutModel",
          "model_module_version": "1.2.0",
          "state": {
            "_model_module": "@jupyter-widgets/base",
            "_model_module_version": "1.2.0",
            "_model_name": "LayoutModel",
            "_view_count": null,
            "_view_module": "@jupyter-widgets/base",
            "_view_module_version": "1.2.0",
            "_view_name": "LayoutView",
            "align_content": null,
            "align_items": null,
            "align_self": null,
            "border": null,
            "bottom": null,
            "display": null,
            "flex": null,
            "flex_flow": null,
            "grid_area": null,
            "grid_auto_columns": null,
            "grid_auto_flow": null,
            "grid_auto_rows": null,
            "grid_column": null,
            "grid_gap": null,
            "grid_row": null,
            "grid_template_areas": null,
            "grid_template_columns": null,
            "grid_template_rows": null,
            "height": null,
            "justify_content": null,
            "justify_items": null,
            "left": null,
            "margin": null,
            "max_height": null,
            "max_width": null,
            "min_height": null,
            "min_width": null,
            "object_fit": null,
            "object_position": null,
            "order": null,
            "overflow": null,
            "overflow_x": null,
            "overflow_y": null,
            "padding": null,
            "right": null,
            "top": null,
            "visibility": null,
            "width": null
          }
        },
        "98d9d524ecf14949829d9b050cb05da3": {
          "model_module": "@jupyter-widgets/controls",
          "model_name": "ProgressStyleModel",
          "model_module_version": "1.5.0",
          "state": {
            "_model_module": "@jupyter-widgets/controls",
            "_model_module_version": "1.5.0",
            "_model_name": "ProgressStyleModel",
            "_view_count": null,
            "_view_module": "@jupyter-widgets/base",
            "_view_module_version": "1.2.0",
            "_view_name": "StyleView",
            "bar_color": null,
            "description_width": ""
          }
        },
        "f7b9584bc8a94c3ebcdd439e4684c434": {
          "model_module": "@jupyter-widgets/base",
          "model_name": "LayoutModel",
          "model_module_version": "1.2.0",
          "state": {
            "_model_module": "@jupyter-widgets/base",
            "_model_module_version": "1.2.0",
            "_model_name": "LayoutModel",
            "_view_count": null,
            "_view_module": "@jupyter-widgets/base",
            "_view_module_version": "1.2.0",
            "_view_name": "LayoutView",
            "align_content": null,
            "align_items": null,
            "align_self": null,
            "border": null,
            "bottom": null,
            "display": null,
            "flex": null,
            "flex_flow": null,
            "grid_area": null,
            "grid_auto_columns": null,
            "grid_auto_flow": null,
            "grid_auto_rows": null,
            "grid_column": null,
            "grid_gap": null,
            "grid_row": null,
            "grid_template_areas": null,
            "grid_template_columns": null,
            "grid_template_rows": null,
            "height": null,
            "justify_content": null,
            "justify_items": null,
            "left": null,
            "margin": null,
            "max_height": null,
            "max_width": null,
            "min_height": null,
            "min_width": null,
            "object_fit": null,
            "object_position": null,
            "order": null,
            "overflow": null,
            "overflow_x": null,
            "overflow_y": null,
            "padding": null,
            "right": null,
            "top": null,
            "visibility": null,
            "width": null
          }
        },
        "94031f09ec8b4b63a30896fa3d0d923b": {
          "model_module": "@jupyter-widgets/controls",
          "model_name": "DescriptionStyleModel",
          "model_module_version": "1.5.0",
          "state": {
            "_model_module": "@jupyter-widgets/controls",
            "_model_module_version": "1.5.0",
            "_model_name": "DescriptionStyleModel",
            "_view_count": null,
            "_view_module": "@jupyter-widgets/base",
            "_view_module_version": "1.2.0",
            "_view_name": "StyleView",
            "description_width": ""
          }
        },
        "bb04e4f4af034db6acbfec44d8345678": {
          "model_module": "@jupyter-widgets/controls",
          "model_name": "HBoxModel",
          "model_module_version": "1.5.0",
          "state": {
            "_dom_classes": [],
            "_model_module": "@jupyter-widgets/controls",
            "_model_module_version": "1.5.0",
            "_model_name": "HBoxModel",
            "_view_count": null,
            "_view_module": "@jupyter-widgets/controls",
            "_view_module_version": "1.5.0",
            "_view_name": "HBoxView",
            "box_style": "",
            "children": [
              "IPY_MODEL_4228a3d33a36468fa74239b13cab7463",
              "IPY_MODEL_0022e45f73d84d68afc0561dc05ea075",
              "IPY_MODEL_ef76e5a063ff45f49fc7b53b01ed9496"
            ],
            "layout": "IPY_MODEL_ee5fb07c65964676b5b30813ae708395"
          }
        },
        "4228a3d33a36468fa74239b13cab7463": {
          "model_module": "@jupyter-widgets/controls",
          "model_name": "HTMLModel",
          "model_module_version": "1.5.0",
          "state": {
            "_dom_classes": [],
            "_model_module": "@jupyter-widgets/controls",
            "_model_module_version": "1.5.0",
            "_model_name": "HTMLModel",
            "_view_count": null,
            "_view_module": "@jupyter-widgets/controls",
            "_view_module_version": "1.5.0",
            "_view_name": "HTMLView",
            "description": "",
            "description_tooltip": null,
            "layout": "IPY_MODEL_c9771bc7c52e4d2eaa7c2e5ca1259548",
            "placeholder": "​",
            "style": "IPY_MODEL_d168933ae1d84b55a4adffb5b741b5fd",
            "value": "Downloading (…)ve/main/spiece.model: 100%"
          }
        },
        "0022e45f73d84d68afc0561dc05ea075": {
          "model_module": "@jupyter-widgets/controls",
          "model_name": "FloatProgressModel",
          "model_module_version": "1.5.0",
          "state": {
            "_dom_classes": [],
            "_model_module": "@jupyter-widgets/controls",
            "_model_module_version": "1.5.0",
            "_model_name": "FloatProgressModel",
            "_view_count": null,
            "_view_module": "@jupyter-widgets/controls",
            "_view_module_version": "1.5.0",
            "_view_name": "ProgressView",
            "bar_style": "success",
            "description": "",
            "description_tooltip": null,
            "layout": "IPY_MODEL_216ef1e9930142f2bc9d19a343c16994",
            "max": 791656,
            "min": 0,
            "orientation": "horizontal",
            "style": "IPY_MODEL_20d5e64393814f8a99c39139c93574b4",
            "value": 791656
          }
        },
        "ef76e5a063ff45f49fc7b53b01ed9496": {
          "model_module": "@jupyter-widgets/controls",
          "model_name": "HTMLModel",
          "model_module_version": "1.5.0",
          "state": {
            "_dom_classes": [],
            "_model_module": "@jupyter-widgets/controls",
            "_model_module_version": "1.5.0",
            "_model_name": "HTMLModel",
            "_view_count": null,
            "_view_module": "@jupyter-widgets/controls",
            "_view_module_version": "1.5.0",
            "_view_name": "HTMLView",
            "description": "",
            "description_tooltip": null,
            "layout": "IPY_MODEL_f135bc1e92024278a6b05e9971899b6a",
            "placeholder": "​",
            "style": "IPY_MODEL_d12db7c5051a4f6fa4e35092a39de5e2",
            "value": " 792k/792k [00:00&lt;00:00, 5.56MB/s]"
          }
        },
        "ee5fb07c65964676b5b30813ae708395": {
          "model_module": "@jupyter-widgets/base",
          "model_name": "LayoutModel",
          "model_module_version": "1.2.0",
          "state": {
            "_model_module": "@jupyter-widgets/base",
            "_model_module_version": "1.2.0",
            "_model_name": "LayoutModel",
            "_view_count": null,
            "_view_module": "@jupyter-widgets/base",
            "_view_module_version": "1.2.0",
            "_view_name": "LayoutView",
            "align_content": null,
            "align_items": null,
            "align_self": null,
            "border": null,
            "bottom": null,
            "display": null,
            "flex": null,
            "flex_flow": null,
            "grid_area": null,
            "grid_auto_columns": null,
            "grid_auto_flow": null,
            "grid_auto_rows": null,
            "grid_column": null,
            "grid_gap": null,
            "grid_row": null,
            "grid_template_areas": null,
            "grid_template_columns": null,
            "grid_template_rows": null,
            "height": null,
            "justify_content": null,
            "justify_items": null,
            "left": null,
            "margin": null,
            "max_height": null,
            "max_width": null,
            "min_height": null,
            "min_width": null,
            "object_fit": null,
            "object_position": null,
            "order": null,
            "overflow": null,
            "overflow_x": null,
            "overflow_y": null,
            "padding": null,
            "right": null,
            "top": null,
            "visibility": null,
            "width": null
          }
        },
        "c9771bc7c52e4d2eaa7c2e5ca1259548": {
          "model_module": "@jupyter-widgets/base",
          "model_name": "LayoutModel",
          "model_module_version": "1.2.0",
          "state": {
            "_model_module": "@jupyter-widgets/base",
            "_model_module_version": "1.2.0",
            "_model_name": "LayoutModel",
            "_view_count": null,
            "_view_module": "@jupyter-widgets/base",
            "_view_module_version": "1.2.0",
            "_view_name": "LayoutView",
            "align_content": null,
            "align_items": null,
            "align_self": null,
            "border": null,
            "bottom": null,
            "display": null,
            "flex": null,
            "flex_flow": null,
            "grid_area": null,
            "grid_auto_columns": null,
            "grid_auto_flow": null,
            "grid_auto_rows": null,
            "grid_column": null,
            "grid_gap": null,
            "grid_row": null,
            "grid_template_areas": null,
            "grid_template_columns": null,
            "grid_template_rows": null,
            "height": null,
            "justify_content": null,
            "justify_items": null,
            "left": null,
            "margin": null,
            "max_height": null,
            "max_width": null,
            "min_height": null,
            "min_width": null,
            "object_fit": null,
            "object_position": null,
            "order": null,
            "overflow": null,
            "overflow_x": null,
            "overflow_y": null,
            "padding": null,
            "right": null,
            "top": null,
            "visibility": null,
            "width": null
          }
        },
        "d168933ae1d84b55a4adffb5b741b5fd": {
          "model_module": "@jupyter-widgets/controls",
          "model_name": "DescriptionStyleModel",
          "model_module_version": "1.5.0",
          "state": {
            "_model_module": "@jupyter-widgets/controls",
            "_model_module_version": "1.5.0",
            "_model_name": "DescriptionStyleModel",
            "_view_count": null,
            "_view_module": "@jupyter-widgets/base",
            "_view_module_version": "1.2.0",
            "_view_name": "StyleView",
            "description_width": ""
          }
        },
        "216ef1e9930142f2bc9d19a343c16994": {
          "model_module": "@jupyter-widgets/base",
          "model_name": "LayoutModel",
          "model_module_version": "1.2.0",
          "state": {
            "_model_module": "@jupyter-widgets/base",
            "_model_module_version": "1.2.0",
            "_model_name": "LayoutModel",
            "_view_count": null,
            "_view_module": "@jupyter-widgets/base",
            "_view_module_version": "1.2.0",
            "_view_name": "LayoutView",
            "align_content": null,
            "align_items": null,
            "align_self": null,
            "border": null,
            "bottom": null,
            "display": null,
            "flex": null,
            "flex_flow": null,
            "grid_area": null,
            "grid_auto_columns": null,
            "grid_auto_flow": null,
            "grid_auto_rows": null,
            "grid_column": null,
            "grid_gap": null,
            "grid_row": null,
            "grid_template_areas": null,
            "grid_template_columns": null,
            "grid_template_rows": null,
            "height": null,
            "justify_content": null,
            "justify_items": null,
            "left": null,
            "margin": null,
            "max_height": null,
            "max_width": null,
            "min_height": null,
            "min_width": null,
            "object_fit": null,
            "object_position": null,
            "order": null,
            "overflow": null,
            "overflow_x": null,
            "overflow_y": null,
            "padding": null,
            "right": null,
            "top": null,
            "visibility": null,
            "width": null
          }
        },
        "20d5e64393814f8a99c39139c93574b4": {
          "model_module": "@jupyter-widgets/controls",
          "model_name": "ProgressStyleModel",
          "model_module_version": "1.5.0",
          "state": {
            "_model_module": "@jupyter-widgets/controls",
            "_model_module_version": "1.5.0",
            "_model_name": "ProgressStyleModel",
            "_view_count": null,
            "_view_module": "@jupyter-widgets/base",
            "_view_module_version": "1.2.0",
            "_view_name": "StyleView",
            "bar_color": null,
            "description_width": ""
          }
        },
        "f135bc1e92024278a6b05e9971899b6a": {
          "model_module": "@jupyter-widgets/base",
          "model_name": "LayoutModel",
          "model_module_version": "1.2.0",
          "state": {
            "_model_module": "@jupyter-widgets/base",
            "_model_module_version": "1.2.0",
            "_model_name": "LayoutModel",
            "_view_count": null,
            "_view_module": "@jupyter-widgets/base",
            "_view_module_version": "1.2.0",
            "_view_name": "LayoutView",
            "align_content": null,
            "align_items": null,
            "align_self": null,
            "border": null,
            "bottom": null,
            "display": null,
            "flex": null,
            "flex_flow": null,
            "grid_area": null,
            "grid_auto_columns": null,
            "grid_auto_flow": null,
            "grid_auto_rows": null,
            "grid_column": null,
            "grid_gap": null,
            "grid_row": null,
            "grid_template_areas": null,
            "grid_template_columns": null,
            "grid_template_rows": null,
            "height": null,
            "justify_content": null,
            "justify_items": null,
            "left": null,
            "margin": null,
            "max_height": null,
            "max_width": null,
            "min_height": null,
            "min_width": null,
            "object_fit": null,
            "object_position": null,
            "order": null,
            "overflow": null,
            "overflow_x": null,
            "overflow_y": null,
            "padding": null,
            "right": null,
            "top": null,
            "visibility": null,
            "width": null
          }
        },
        "d12db7c5051a4f6fa4e35092a39de5e2": {
          "model_module": "@jupyter-widgets/controls",
          "model_name": "DescriptionStyleModel",
          "model_module_version": "1.5.0",
          "state": {
            "_model_module": "@jupyter-widgets/controls",
            "_model_module_version": "1.5.0",
            "_model_name": "DescriptionStyleModel",
            "_view_count": null,
            "_view_module": "@jupyter-widgets/base",
            "_view_module_version": "1.2.0",
            "_view_name": "StyleView",
            "description_width": ""
          }
        }
      }
    }
  },
  "cells": [
    {
      "cell_type": "markdown",
      "source": [
        "# Article generator"
      ],
      "metadata": {
        "id": "N3Hf51xTeSiM"
      }
    },
    {
      "cell_type": "markdown",
      "source": [
        "## 1. Getting Required Inputs\n",
        "\n",
        "* Topic on which article has to be generated\n",
        "* No of websites to be reffered to"
      ],
      "metadata": {
        "id": "00vXXUJtXpXw"
      }
    },
    {
      "cell_type": "code",
      "source": [
        "search_term = str(input(\"Please enter the topic on which article has to be generated-\"))\n",
        "print(search_term)"
      ],
      "metadata": {
        "id": "HIEfRqWpg00H",
        "colab": {
          "base_uri": "https://localhost:8080/"
        },
        "outputId": "a3036f9c-fc0b-48ba-b24e-54d5e890dc7b"
      },
      "execution_count": null,
      "outputs": [
        {
          "output_type": "stream",
          "name": "stdout",
          "text": [
            "Please enter the topic on which article has to be generated-Random Forest Classifier\n",
            "Random Forest Classifier\n"
          ]
        }
      ]
    },
    {
      "cell_type": "code",
      "source": [
        "while True:\n",
        "    try:\n",
        "        no_of_urls = int(input(\"Enter the no of websites to visit. (Max:10) \"))\n",
        "        assert 0 < no_of_urls <= 10\n",
        "    except ValueError:\n",
        "        print(\"Please enter a valid number!\")\n",
        "    except AssertionError:\n",
        "        print(\"Please enter a number between 1 and 10!\")\n",
        "    else:\n",
        "        break"
      ],
      "metadata": {
        "id": "i-pdguvA2OAY",
        "colab": {
          "base_uri": "https://localhost:8080/"
        },
        "outputId": "771d9e13-ad17-4eb3-84f0-322191f9c20e"
      },
      "execution_count": null,
      "outputs": [
        {
          "name": "stdout",
          "output_type": "stream",
          "text": [
            "Enter the no of websites to visit. (Max:10) 10\n"
          ]
        }
      ]
    },
    {
      "cell_type": "markdown",
      "source": [
        "## 2. Bing Search API\n",
        "\n",
        "* Fetch the urls relevant to the search query\n",
        "* Only return webpages as result (no news, image, or video links)\n",
        "* Fetch **n** no of results based on user input"
      ],
      "metadata": {
        "id": "SS7nHgEndZa8"
      }
    },
    {
      "cell_type": "code",
      "source": [
        "# Azure settings\n",
        "subscription_key = \"a018086497784da9a60874870fb6fad2\"\n",
        "assert subscription_key\n",
        "search_url = \"https://api.bing.microsoft.com/v7.0/search\""
      ],
      "metadata": {
        "id": "J9UCsk7Eg0vs"
      },
      "execution_count": null,
      "outputs": []
    },
    {
      "cell_type": "code",
      "source": [
        "# Fetch Data\n",
        "import requests\n",
        "headers = {\"Ocp-Apim-Subscription-Key\": subscription_key}\n",
        "params = {\"q\": search_term, \"responseFilter\": \"webpages\", \"count\": no_of_urls}\n",
        "response = requests.get(search_url, headers=headers, params=params)\n",
        "response.raise_for_status()\n",
        "search_results = response.json()"
      ],
      "metadata": {
        "id": "8gtCFICQg0rI"
      },
      "execution_count": null,
      "outputs": []
    },
    {
      "cell_type": "code",
      "source": [
        "# Store all urls in a list\n",
        "results = search_results['webPages']['value']\n",
        "url_list = []\n",
        "for result in results:\n",
        "  url_list.append(result[\"url\"])\n",
        "print(url_list)"
      ],
      "metadata": {
        "colab": {
          "base_uri": "https://localhost:8080/"
        },
        "id": "Dp2wvn_pzhdN",
        "outputId": "a1715071-5ef8-4487-b7f1-d5cabf554f62"
      },
      "execution_count": null,
      "outputs": [
        {
          "output_type": "stream",
          "name": "stdout",
          "text": [
            "['https://scikit-learn.org/stable/modules/generated/sklearn.ensemble.RandomForestClassifier.html', 'https://www.ibm.com/topics/random-forest', 'https://en.wikipedia.org/wiki/Random_forest', 'https://www.datacamp.com/tutorial/random-forests-classifier-python', 'https://towardsdatascience.com/understanding-random-forest-58381e0602d2', 'https://www.geeksforgeeks.org/random-forest-classifier-using-scikit-learn/', 'https://towardsdatascience.com/a-practical-guide-to-implementing-a-random-forest-classifier-in-python-979988d8a263', 'https://www.upgrad.com/blog/random-forest-classifier/', 'https://towardsdatascience.com/random-forest-classification-678e551462f5', 'https://levelup.gitconnected.com/using-decision-trees-and-random-forests-for-machine-learning-classification-in-python-206e9a156ec4']\n"
          ]
        }
      ]
    },
    {
      "cell_type": "code",
      "source": [
        "# Preview of collected websites\n",
        "from IPython.display import HTML\n",
        "\n",
        "rows = \"\\n\".join([\"\"\"<tr>\n",
        "                       <td><a href=\\\"{0}\\\">{1}</a></td>\n",
        "                       <td>{2}</td>\n",
        "                     </tr>\"\"\".format(v[\"url\"], v[\"name\"], v[\"snippet\"])\n",
        "                  for v in search_results[\"webPages\"][\"value\"]])\n",
        "HTML(\"<table>{0}</table>\".format(rows))"
      ],
      "metadata": {
        "id": "mvZSgMfx8r4-",
        "colab": {
          "base_uri": "https://localhost:8080/",
          "height": 406
        },
        "outputId": "8b91352a-7024-48b2-cb9b-2f9a04895c79"
      },
      "execution_count": null,
      "outputs": [
        {
          "output_type": "execute_result",
          "data": {
            "text/plain": [
              "<IPython.core.display.HTML object>"
            ],
            "text/html": [
              "<table><tr>\n",
              "                       <td><a href=\"https://scikit-learn.org/stable/modules/generated/sklearn.ensemble.RandomForestClassifier.html\">sklearn.ensemble - scikit-learn 1.1.1 documentation</a></td>\n",
              "                       <td>A random forest is a meta estimator that fits a number of decision tree classifiers on various sub-samples of the dataset and uses averaging to improve the predictive accuracy and control over-fitting.</td>\n",
              "                     </tr>\n",
              "<tr>\n",
              "                       <td><a href=\"https://www.ibm.com/topics/random-forest\">What is Random Forest? | IBM</a></td>\n",
              "                       <td>Random forest is a commonly-used machine learning algorithm trademarked by Leo Breiman and Adele Cutler, which combines the output of multiple decision trees to reach a single result. Its ease of use and flexibility have fueled its adoption, as it handles both classification and regression problems. Decision trees</td>\n",
              "                     </tr>\n",
              "<tr>\n",
              "                       <td><a href=\"https://en.wikipedia.org/wiki/Random_forest\">Random forest - Wikipedia</a></td>\n",
              "                       <td>Random forests or random decision forests is an ensemble learning method for classification, regression and other tasks that operates by constructing a multitude of decision trees at training time. For classification tasks, the output of the random forest is the class selected by most trees.</td>\n",
              "                     </tr>\n",
              "<tr>\n",
              "                       <td><a href=\"https://www.datacamp.com/tutorial/random-forests-classifier-python\">Random Forest Classification with Scikit-Learn | DataCamp</a></td>\n",
              "                       <td>Random forests are for supervised machine learning, where there is a labeled target variable. Random forests can be used for solving regression (numeric target variable) and classification (categorical target variable) problems. Random forests are an ensemble method, meaning they combine predictions from other models.</td>\n",
              "                     </tr>\n",
              "<tr>\n",
              "                       <td><a href=\"https://towardsdatascience.com/understanding-random-forest-58381e0602d2\">Understanding Random Forest - Towards Data Science</a></td>\n",
              "                       <td>Understanding Random Forest. How the Algorithm Works and Why it Is… | by Tony Yiu | Towards Data Science Write Sign up Sign In 500 Apologies, but something went wrong on our end. Refresh the page, check Medium ’s site status, or find something interesting to read. Tony Yiu 100K Followers Data scientist. Founder Alpha Beta Blog.</td>\n",
              "                     </tr>\n",
              "<tr>\n",
              "                       <td><a href=\"https://www.geeksforgeeks.org/random-forest-classifier-using-scikit-learn/\">Random Forest Classifier using Scikit-learn - GeeksforGeeks</a></td>\n",
              "                       <td>The Random forest or Random Decision Forest is a supervised Machine learning algorithm used for classification, regression, and other tasks using decision trees. The Random forest classifier creates a set of decision trees from a randomly selected subset of the training set.</td>\n",
              "                     </tr>\n",
              "<tr>\n",
              "                       <td><a href=\"https://towardsdatascience.com/a-practical-guide-to-implementing-a-random-forest-classifier-in-python-979988d8a263\">A Practical Guide to Implementing a Random Forest Classifier in Python ...</a></td>\n",
              "                       <td>A Practical Guide to Implementing a Random Forest Classifier in Python | by Eden Molina | Towards Data Science Write Sign up Sign In 500 Apologies, but something went wrong on our end. Refresh the page, check Medium ’s site status, or find something interesting to read. Eden Molina 17 Followers Ex-Physicist now Data Scientist and Engineer Follow</td>\n",
              "                     </tr>\n",
              "<tr>\n",
              "                       <td><a href=\"https://www.upgrad.com/blog/random-forest-classifier/\">Random Forest Classifier: Overview, How Does it Work, Pros & Cons</a></td>\n",
              "                       <td>The random forest classifier is a supervised learning algorithm which you can use for regression and classification problems. It is among the most popular machine learning algorithms due to its high flexibility and ease of implementation. Why is the random forest classifier called the random forest?</td>\n",
              "                     </tr>\n",
              "<tr>\n",
              "                       <td><a href=\"https://towardsdatascience.com/random-forest-classification-678e551462f5\">Random Forest Classification. Background information & sample use… | by ...</a></td>\n",
              "                       <td>The Pythoneers Heart Disease Classification prediction with SVM and Random Forest Algorithms Dr. Soumen Atta, Ph.D. Building a Random Forest Classifier with Wine Quality Dataset in Python Jan Marcel Kezmann in MLearning.ai All 8 Types of Time Series Classification Methods Saupin Guillaume in Towards Data Science</td>\n",
              "                     </tr>\n",
              "<tr>\n",
              "                       <td><a href=\"https://levelup.gitconnected.com/using-decision-trees-and-random-forests-for-machine-learning-classification-in-python-206e9a156ec4\">Using Decision Trees and Random Forests for Machine Learning ...</a></td>\n",
              "                       <td>Photo by David Clode on Unsplash. Decision Trees and Random Forests are powerful machine learning algorithms used for classification and regression tasks. Decision Trees create a model that predicts the value of a target variable based on several input variables, while Random Forests use multiple decision trees to make predictions.</td>\n",
              "                     </tr></table>"
            ]
          },
          "metadata": {},
          "execution_count": 6
        }
      ]
    },
    {
      "cell_type": "markdown",
      "source": [
        "## 4. Web Scraping\n",
        "* Obtain relevant information\n",
        "* Seperate functions for some common data sources \n",
        "    * Wikipedia\n",
        "    * GeeksforGeeks\n",
        "    * Towards Data Science\n",
        "    * W3schools\n",
        "    * Analyticsvidhya\n",
        "    * Tutorials point\n",
        "    * JavaTpoint"
      ],
      "metadata": {
        "id": "mD0Xmk_ozRlL"
      }
    },
    {
      "cell_type": "markdown",
      "source": [
        "### Wikipedia"
      ],
      "metadata": {
        "id": "6HPonsBZ8y86"
      }
    },
    {
      "cell_type": "code",
      "source": [
        "! pip install wikipedia-api"
      ],
      "metadata": {
        "colab": {
          "base_uri": "https://localhost:8080/"
        },
        "id": "Gk4KRCuDFyGP",
        "outputId": "94c2b124-4e7c-4ac8-b83b-7a5829086204"
      },
      "execution_count": null,
      "outputs": [
        {
          "output_type": "stream",
          "name": "stdout",
          "text": [
            "Looking in indexes: https://pypi.org/simple, https://us-python.pkg.dev/colab-wheels/public/simple/\n",
            "Collecting wikipedia-api\n",
            "  Downloading Wikipedia_API-0.5.8-py3-none-any.whl (13 kB)\n",
            "Requirement already satisfied: requests in /usr/local/lib/python3.9/dist-packages (from wikipedia-api) (2.27.1)\n",
            "Requirement already satisfied: idna<4,>=2.5 in /usr/local/lib/python3.9/dist-packages (from requests->wikipedia-api) (3.4)\n",
            "Requirement already satisfied: charset-normalizer~=2.0.0 in /usr/local/lib/python3.9/dist-packages (from requests->wikipedia-api) (2.0.12)\n",
            "Requirement already satisfied: certifi>=2017.4.17 in /usr/local/lib/python3.9/dist-packages (from requests->wikipedia-api) (2022.12.7)\n",
            "Requirement already satisfied: urllib3<1.27,>=1.21.1 in /usr/local/lib/python3.9/dist-packages (from requests->wikipedia-api) (1.26.15)\n",
            "Installing collected packages: wikipedia-api\n",
            "Successfully installed wikipedia-api-0.5.8\n"
          ]
        }
      ]
    },
    {
      "cell_type": "code",
      "source": [
        "# Using Wikipedia API\n",
        "import requests\n",
        "from bs4 import BeautifulSoup\n",
        "import wikipediaapi\n",
        "\n",
        "def wikipedia(wiki_url):\n",
        "      page_name = wiki_url.split(\"/\")[-1]\n",
        "\n",
        "      wikipedia_obj = wikipediaapi.Wikipedia(\n",
        "        language='en',\n",
        "        extract_format=wikipediaapi.ExtractFormat.WIKI\n",
        "      )\n",
        "\n",
        "      page = wikipedia_obj.page(page_name)\n",
        "\n",
        "      if(page.exists()):\n",
        "          return page.text\n",
        "\n",
        "      return \" \"\n"
      ],
      "metadata": {
        "id": "olZJfpHWDd95"
      },
      "execution_count": null,
      "outputs": []
    },
    {
      "cell_type": "code",
      "source": [
        "# wikipedia(\"https://en.wikipedia.org/wiki/Random_forest\")"
      ],
      "metadata": {
        "id": "W-oSKPRoDMEa"
      },
      "execution_count": null,
      "outputs": []
    },
    {
      "cell_type": "markdown",
      "source": [
        "### GeeksForGeeks"
      ],
      "metadata": {
        "id": "sc9LgH2F9HHA"
      }
    },
    {
      "cell_type": "code",
      "source": [
        "import requests\n",
        "from bs4 import BeautifulSoup\n",
        "\n",
        "def geeksforgeeks(gfg_url):\n",
        "    # Make a GET request to the topic URL\n",
        "    response = requests.get(gfg_url)\n",
        "\n",
        "    # Parse the HTML content of the page using BeautifulSoup\n",
        "    soup = BeautifulSoup(response.content, 'html.parser')\n",
        "\n",
        "    # Extract the content of the topic page (excluding code snippets)\n",
        "    content = ''\n",
        "    for tag in soup.find_all('div',{'class':'text'}):\n",
        "        content += tag.text.strip() \n",
        "\n",
        "    return content\n"
      ],
      "metadata": {
        "id": "IIstW9t43q_t"
      },
      "execution_count": null,
      "outputs": []
    },
    {
      "cell_type": "code",
      "source": [
        "# geeksforgeeks(\"https://www.geeksforgeeks.org/random-forest-regression-in-python/\")"
      ],
      "metadata": {
        "id": "lIraRfDX5R93"
      },
      "execution_count": null,
      "outputs": []
    },
    {
      "cell_type": "markdown",
      "source": [
        "### W3Schools"
      ],
      "metadata": {
        "id": "X_hpB1we9Npo"
      }
    },
    {
      "cell_type": "code",
      "source": [
        "import requests\n",
        "from bs4 import BeautifulSoup\n",
        "\n",
        "def w3schools(url):\n",
        "    # Make a GET request to the topic URL\n",
        "    response = requests.get(url)\n",
        "\n",
        "    # Parse the HTML content of the page using BeautifulSoup\n",
        "    soup = BeautifulSoup(response.content, 'html.parser')\n",
        "\n",
        "    # Extract the content of the topic page (excluding code snippets)\n",
        "    content = ''\n",
        "    for tag in soup.find_all('div',{'id':'main'}):\n",
        "        for sub_tag in tag.find_all('p'):\n",
        "          content += sub_tag.text.strip() \n",
        "\n",
        "    return content\n"
      ],
      "metadata": {
        "id": "PYsR1lKDJOk7"
      },
      "execution_count": null,
      "outputs": []
    },
    {
      "cell_type": "code",
      "source": [
        "# w3schools(\"https://www.w3schools.com/python/python_ml_decision_tree.asp\")"
      ],
      "metadata": {
        "id": "8EB6xkMMILE1"
      },
      "execution_count": null,
      "outputs": []
    },
    {
      "cell_type": "markdown",
      "source": [
        "### TowardsDataScience"
      ],
      "metadata": {
        "id": "pwviFRkJ9bZr"
      }
    },
    {
      "cell_type": "code",
      "source": [
        "# Import necessary libraries\n",
        "import requests\n",
        "from bs4 import BeautifulSoup\n",
        "\n",
        "def towardsdatascience(url):\n",
        "    # Make a GET request to the topic URL\n",
        "    response = requests.get(url)\n",
        "\n",
        "    # Parse the HTML content of the page using BeautifulSoup\n",
        "    soup = BeautifulSoup(response.content, 'html.parser')\n",
        "\n",
        "    # Extract the content of the topic page (excluding code snippets)\n",
        "    content = ''\n",
        "    for tag in soup.find_all('p',{'class':'pw-post-body-paragraph'}):\n",
        "        content += tag.text.strip() \n",
        "\n",
        "    return content"
      ],
      "metadata": {
        "id": "l5l2yGPUGv3I"
      },
      "execution_count": null,
      "outputs": []
    },
    {
      "cell_type": "code",
      "source": [
        "# towardsdatascience(\"https://towardsdatascience.com/understanding-random-forest-58381e0602d2\")"
      ],
      "metadata": {
        "id": "54eE3FrfHd3-"
      },
      "execution_count": null,
      "outputs": []
    },
    {
      "cell_type": "markdown",
      "source": [
        "### JavaTPoint"
      ],
      "metadata": {
        "id": "YnUoA8D09n5u"
      }
    },
    {
      "cell_type": "code",
      "source": [
        "# Import necessary libraries\n",
        "import requests\n",
        "from bs4 import BeautifulSoup\n",
        "\n",
        "def javatpoint(url):\n",
        "    # Make a GET request to the topic URL\n",
        "    response = requests.get(url)\n",
        "\n",
        "    # Parse the HTML content of the page using BeautifulSoup\n",
        "    soup = BeautifulSoup(response.content, 'html.parser')\n",
        "\n",
        "    # Extract the content of the topic page (excluding code snippets)\n",
        "    content = ''\n",
        "    for tag in soup.find_all('div',{'class':'onlycontentinner'}):\n",
        "      for sub_tag in tag.find_all('p'):\n",
        "        content += sub_tag.text.strip() \n",
        "\n",
        "    return content"
      ],
      "metadata": {
        "id": "nnhjjIeKIcWQ"
      },
      "execution_count": null,
      "outputs": []
    },
    {
      "cell_type": "code",
      "source": [
        "# javatpoint(\"https://www.javatpoint.com/machine-learning-random-forest-algorithm\")"
      ],
      "metadata": {
        "id": "X-ixNcDeKjvP"
      },
      "execution_count": null,
      "outputs": []
    },
    {
      "cell_type": "markdown",
      "source": [
        "### TutorialsPoint"
      ],
      "metadata": {
        "id": "jEJ6rcES-D5m"
      }
    },
    {
      "cell_type": "code",
      "source": [
        "# Import necessary libraries\n",
        "import requests\n",
        "from bs4 import BeautifulSoup\n",
        "\n",
        "def tutorialspoint(url):\n",
        "      # Make a GET request to the topic URL\n",
        "    response = requests.get(url)\n",
        "\n",
        "    # Parse the HTML content of the page using BeautifulSoup\n",
        "    soup = BeautifulSoup(response.content, 'html.parser')\n",
        "\n",
        "    # Extract the content of the topic page (excluding code snippets)\n",
        "    content = ''\n",
        "    for tag in soup.find_all('div',{'id':'mainContent'}):\n",
        "        for sub_tag in tag.find_all('p'):\n",
        "          content += sub_tag.text.strip() \n",
        "\n",
        "    return content"
      ],
      "metadata": {
        "id": "iZazJXZH-JVA"
      },
      "execution_count": null,
      "outputs": []
    },
    {
      "cell_type": "code",
      "source": [
        "tutorialspoint(\"https://www.tutorialspoint.com/machine_learning_with_python/machine_learning_with_python_classification_algorithms_random_forest.htm\")"
      ],
      "metadata": {
        "colab": {
          "base_uri": "https://localhost:8080/"
        },
        "id": "vBunOm0cLm9y",
        "outputId": "1ec630d1-faf5-4020-8123-f0898c221096"
      },
      "execution_count": null,
      "outputs": [
        {
          "output_type": "execute_result",
          "data": {
            "text/plain": [
              "'Random forest is a supervised learning algorithm which is used for both classification as well as regression. But however, it is mainly used for classification problems. As we know that a forest is made up of trees and more trees means more robust forest. Similarly, random forest algorithm creates decision trees on data samples and then gets the prediction from each of them and finally selects the best solution by means of voting. It is an ensemble method which is better than a single decision tree because it reduces the over-fitting by averaging the result.We can understand the working of Random Forest algorithm with the help of following steps −Step 1 − First, start with the selection of random samples from a given dataset.Step 2 − Next, this algorithm will construct a decision tree for every sample. Then it will get the prediction result from every decision tree.Step 3 − In this step, voting will be performed for every predicted result.Step 4 − At last, select the most voted prediction result as the final prediction result.The following diagram will illustrate its working −First, start with importing necessary Python packages −Next, download the iris dataset from its weblink as follows −Next, we need to assign column names to the dataset as follows −Now, we need to read dataset to pandas dataframe as follows −Data Preprocessing will be done with the help of following script lines.Next, we will divide the data into train and test split. The following code will split the dataset into 70% training data and 30% of testing data −Next, train the model with the help of RandomForestClassifier class of sklearn as follows −At last, we need to make prediction. It can be done with the help of following script −Next, print the results as follows −The following are the advantages of Random Forest algorithm −It overcomes the problem of overfitting by averaging or combining the results of different decision trees.Random forests work well for a large range of data items than a single decision tree does.Random forest has less variance then single decision tree.Random forests are very flexible and possess very high accuracy.Scaling of data does not require in random forest algorithm. It maintains good accuracy even after providing data without scaling.Random Forest algorithms maintains good accuracy even a large proportion of the data is missing.The following are the disadvantages of Random Forest algorithm −Complexity is the main disadvantage of Random forest algorithms.Construction of Random forests are much harder and time-consuming than decision trees.More computational resources are required to implement Random Forest algorithm.It is less intuitive in case when we have a large collection of decision trees.The prediction process using random forests is very time-consuming in comparison with other algorithms.'"
            ],
            "application/vnd.google.colaboratory.intrinsic+json": {
              "type": "string"
            }
          },
          "metadata": {},
          "execution_count": 19
        }
      ]
    },
    {
      "cell_type": "markdown",
      "source": [
        "### Analyticsvidhya"
      ],
      "metadata": {
        "id": "f3z-LBqlSHJB"
      }
    },
    {
      "cell_type": "code",
      "source": [
        "# Import necessary libraries\n",
        "import requests\n",
        "from bs4 import BeautifulSoup\n",
        "\n",
        "def analyticsvidhya(url):\n",
        "      # Make a GET request to the topic URL\n",
        "    response = requests.get(url)\n",
        "\n",
        "    # Parse the HTML content of the page using BeautifulSoup\n",
        "    soup = BeautifulSoup(response.content, 'html.parser')\n",
        "\n",
        "    # Extract the content of the topic page (excluding code snippets)\n",
        "    content = ''\n",
        "    for tag in soup.find_all('section',{'class':'av-details-page'}):\n",
        "        for sub_tag in tag.find_all('p'):\n",
        "          content += sub_tag.text.strip() \n",
        "\n",
        "    return content"
      ],
      "metadata": {
        "id": "jCXOyLiaSGeg"
      },
      "execution_count": null,
      "outputs": []
    },
    {
      "cell_type": "code",
      "source": [
        "analyticsvidhya(\"https://www.analyticsvidhya.com/blog/2021/06/understanding-random-forest/\")"
      ],
      "metadata": {
        "colab": {
          "base_uri": "https://localhost:8080/"
        },
        "id": "09Zu55nRSLU5",
        "outputId": "0971547f-394e-4e32-bed8-4ba5a13a1ac8"
      },
      "execution_count": null,
      "outputs": [
        {
          "output_type": "execute_result",
          "data": {
            "text/plain": [
              "'Random Forest is one of the most popular and commonly used algorithms by Data Scientists. Random forest is a Supervised Machine Learning Algorithm\\xa0that is used widely in Classification and Regression problems. It builds decision trees on different samples and takes their majority vote for classification and average in case of regression.One of the most important features of the Random Forest Algorithm is that it can handle the data set containing continuous variables, as in the case of regression, and categorical variables, as in the case of classification. It performs better for classification and regression tasks. In this tutorial, we will understand the working of random forest and implement random forest on a classification task.Learning ObjectivesThis article was published as a part of the Data Science Blogathon.Let’s dive into a real-life analogy to understand this concept further. A student named X wants to choose a course after his 10+2, and he is confused about the choice of course based on his skill set. So he decides to consult various people like his cousins, teachers, parents, degree students, and working people. He asks them varied questions like why he should choose, job opportunities with that course, course fee, etc. Finally, after consulting various people about the course he decides to take the course suggested by most people.Before understanding the working of the random forest algorithm in machine learning, we must look into the ensemble learning technique. Ensemble simplymeans combining multiple models. Thus a collection of models is used to make predictions rather than an individual model.Ensemble uses two types of methods:1. Bagging– It creates a different training subset from sample training data with replacement & the final output is based on majority voting. For example,\\xa0 Random Forest.2. Boosting– It combines weak learners into strong learners by creating sequential models such that the final model has the highest accuracy. For example,\\xa0 ADA BOOST, XG BOOST.As mentioned earlier, Random forest works on the Bagging principle. Now let’s\\xa0dive in and understand bagging in detail.Bagging, also known as\\xa0Bootstrap Aggregation, is the ensemble technique used by random forest.Bagging chooses a random sample/random subset from the entire data set. Hence each model is generated from the samples (Bootstrap Samples) provided by the Original Data with replacement known as row sampling. This step of row sampling with replacement is called bootstrap. Now each model is trained independently, which generates results. The final output is based on majority voting after combining the results of all models. This step which involves combining all the results and generating output based on majority voting, is known as aggregation.Now let’s look at an example by breaking it down with the help of the following figure. Here the bootstrap sample is taken from actual data (Bootstrap sample 01, Bootstrap sample 02, and Bootstrap sample 03) with a replacement which means there is a high possibility that each sample won’t contain unique data. The model (Model 01, Model 02, and Model 03) obtained from this bootstrap sample is trained independently. Each model generates results as shown. Now the Happy emoji has a majority when compared to the Sad emoji. Thus based on majority voting final output is obtained as Happy emoji.Boosting is one of the techniques that use the concept of ensemble learning. A boosting algorithm combines multiple simple models (also known as weak learners or base estimators) to generate the final output. It is done by building a model by using weak models in series.There are several boosting algorithms; AdaBoost was the first really successful boosting algorithm that was developed for the purpose of binary classification. AdaBoost is an abbreviation for Adaptive Boosting and is a prevalent boosting technique that combines multiple “weak classifiers” into a single “strong classifier.” There are Other Boosting techniques. For more, you can visit4 Boosting Algorithms You Should Know – GBM, XGBoost, LightGBM & CatBoostStep 1: In the Random forest model, a subset of data points and a subset of features is selected for constructing each decision tree. Simply put, n random records and m features are taken from the data set having k number of records.Step 2: Individual decision trees are constructed for each sample.Step 3: Each decision tree will generate an output.Step 4: Final output is considered based on Majority Voting or Averaging for Classification and regression, respectively.For example:\\xa0 consider the fruit basket as the data as shown in the figure below. Now n number of samples are taken from the fruit basket, and an individual decision tree is constructed for each sample. Each decision tree will generate an output, as shown in the figure. The final output is considered based on majority voting. In the below figure, you can see that the majority decision tree gives output as an apple when compared to a banana, so the final output is taken as an apple.Random forest is a collection of decision trees; still, there are a lot of differences in their behavior.Thus random forests are much more successful than decision trees only if the trees are diverse and acceptable.Hyperparameters are used in random forests to either enhance the performance and predictive power of models or to make the model faster.n_estimators: Number of trees the algorithm builds before averaging the predictions.max_features: Maximum number of features random forest considers splitting a node.mini_sample_leaf: Determines the minimum number of leaves required to split an internal node.criterion: How to split the node in each tree? (Entropy/Gini impurity/Log Loss)max_leaf_nodes: Maximum leaf nodes in each treen_jobs: it tells the engine how many processors it is allowed to use. If the value is 1, it can use only one processor, but if the value is -1, there is no limit.random_state:controls randomness of the sample. The model will always produce the same results if it has a definite value of random state and has been given the same hyperparameters and training data.oob_score:\\xa0OOB means out of the bag. It is a random forest cross-validation method. In this, one-third of the sample is not used to train the data; instead used to evaluate its performance. These samples are called out-of-bag samples.Now let’s implement Random Forest in scikit-learn.Python Code:From hyperparameter tuning, we can fetch the best estimator, as shown. The best set of parameters identified was max_depth=5, min_samples_leaf=10,n_estimators=10The trees created by estimators_[5] and estimators_[7] are different. Thus we can say that each tree is independent of the other.This algorithm is widely used in E-commerce, banking, medicine, the stock market, etc.For example: In the Banking industry, it can be used to find which customer will default on a loan.1. It can be used in classification and regression problems.2. It solves the problem of overfitting\\xa0as output is based on majority voting or averaging.3. It performs well even if the data contains null/missing values.4. Each decision tree created is independent of the other; thus, it shows the property of parallelization.5. It is highly stable as the average answers given by a large number of trees are taken.6. It maintains diversity as all the attributes are not considered while making each decision tree though it is not true in all cases.7. It is immune to the curse of dimensionality. Since each tree does not consider all the attributes, feature space is reduced.8. We don’t have to segregate data into train and test as there will always be 30% of the data, which is not seen by the decision tree made out of bootstrap.1. Random forest is highly complex compared to decision trees, where decisions can be made by following the path of the tree.2. Training time is more than other models due to its complexity. Whenever it has to make a prediction, each decision tree has to generate output for the given input data.Random forest is a great choice if anyone wants to build the model fast and efficiently, as one of the best things about the random forest is it can handle missing values. It is one of the best techniques with high performance, widely used in various industries for its efficiency. It can handle binary, continuous, and categorical data. Overall, random forest is a fast, simple, flexible, and robust model with some limitations.Key TakeawaysA. Random Forest is a supervised learning algorithm that works on the concept of bagging. In bagging, a group of models is trained on different subsets of the dataset, and the final output is generated by collating the outputs of all the different models. In the case of random forest, the base model is a decision tree.A. The following steps will tell you how random forest works:A. Random Forest tends to have a low bias since it works on the concept of bagging. It works well even with a dataset with a large no. of features since it works on a subset of features. Moreover, it is faster to train as the trees are independent of each other, making the training process parallelizable.The media shown in this article are not owned by Analytics Vidhya and are used at the Author’s discretion.'"
            ],
            "application/vnd.google.colaboratory.intrinsic+json": {
              "type": "string"
            }
          },
          "metadata": {},
          "execution_count": 21
        }
      ]
    },
    {
      "cell_type": "markdown",
      "source": [
        "### General scrapper"
      ],
      "metadata": {
        "id": "sFUFTT4_-GwK"
      }
    },
    {
      "cell_type": "code",
      "source": [
        "# Import necessary libraries\n",
        "import requests\n",
        "from bs4 import BeautifulSoup\n",
        "\n",
        "def general_scrapper(url):\n",
        "      # Make a GET request to the topic URL\n",
        "    response = requests.get(url)\n",
        "\n",
        "    # Parse the HTML content of the page using BeautifulSoup\n",
        "    soup = BeautifulSoup(response.content, 'html.parser')\n",
        "\n",
        "    # Extract the content of the topic page (excluding code snippets)\n",
        "    content = ''\n",
        "    for tag in soup.find_all('p'):\n",
        "        content += tag.text.strip() \n",
        "\n",
        "    return content"
      ],
      "metadata": {
        "id": "iuDhQAxB-OCd"
      },
      "execution_count": null,
      "outputs": []
    },
    {
      "cell_type": "code",
      "source": [
        "# general_scrapper(\"https://www.ibm.com/in-en/topics/random-forest\")"
      ],
      "metadata": {
        "id": "mxEuN5U2MHI6"
      },
      "execution_count": null,
      "outputs": []
    },
    {
      "cell_type": "markdown",
      "source": [
        "### Scrapper\n",
        "Identify the domain of website and call apprpriate scrapping function  \n",
        "Call general scrapper if not in any *domain*"
      ],
      "metadata": {
        "id": "DkWY4d_z3aRo"
      }
    },
    {
      "cell_type": "code",
      "source": [
        "!pip install tld"
      ],
      "metadata": {
        "id": "AJ5w6iG54_sA",
        "colab": {
          "base_uri": "https://localhost:8080/"
        },
        "outputId": "6a3e27ce-4f41-4857-81f1-9692525e3da2"
      },
      "execution_count": null,
      "outputs": [
        {
          "output_type": "stream",
          "name": "stdout",
          "text": [
            "Looking in indexes: https://pypi.org/simple, https://us-python.pkg.dev/colab-wheels/public/simple/\n",
            "Collecting tld\n",
            "  Downloading tld-0.13-py2.py3-none-any.whl (263 kB)\n",
            "\u001b[2K     \u001b[90m━━━━━━━━━━━━━━━━━━━━━━━━━━━━━━━━━━━━━━\u001b[0m \u001b[32m263.8/263.8 KB\u001b[0m \u001b[31m10.3 MB/s\u001b[0m eta \u001b[36m0:00:00\u001b[0m\n",
            "\u001b[?25hInstalling collected packages: tld\n",
            "Successfully installed tld-0.13\n"
          ]
        }
      ]
    },
    {
      "cell_type": "code",
      "source": [
        "from tld import get_tld\n",
        "\n",
        "data_list = []\n",
        "\n",
        "# go through each url\n",
        "for url in url_list:\n",
        "\n",
        "  # Get the domain from url\n",
        "  res = get_tld(url, as_object=True)\n",
        "  current_domain = res.domain\n",
        "\n",
        "  if current_domain == \"wikipedia\":\n",
        "    data_list.append(wikipedia(url))\n",
        "  elif current_domain == \"geekforgeeks\":\n",
        "    data_list.append(geeksforgeeks(url))\n",
        "  elif current_domain == \"towardsdatascience\" or current_domain == \"medium\":\n",
        "    data_list.append(towardsdatascience(url))\n",
        "  elif current_domain == \"w3schools\":\n",
        "    data_list.append(w3schools(url))\n",
        "  elif current_domain == \"tutorialspoint\":\n",
        "    data_list.append(tutorialspoint(url))\n",
        "  elif current_domain == \"analyticsvidhya\":\n",
        "    data_list.append(analyticsvidhya(url))\n",
        "  elif current_domain == \"javatpoint\":\n",
        "    data_list.append(javatpoint(url))\n",
        "  else:\n",
        "    data_list.append(general_scrapper(url))\n"
      ],
      "metadata": {
        "id": "gXgk6GS32nn1"
      },
      "execution_count": null,
      "outputs": []
    },
    {
      "cell_type": "markdown",
      "source": [
        "## 5. Data Cleaning\n",
        "* Prepare data to be fed into text summarizer\n",
        "* Remove HTML tags, special characters, punctuation\n",
        "* Perform \n",
        "  * Spellcheck\n",
        "  * Normalization"
      ],
      "metadata": {
        "id": "vuGB9jnOMMHm"
      }
    },
    {
      "cell_type": "code",
      "source": [
        "import re\n",
        "CLEANR = re.compile('<.*?>') \n",
        "\n",
        "def cleanhtml(raw_html):\n",
        "  cleantext = re.sub(CLEANR, '', raw_html)\n",
        "  return cleantext"
      ],
      "metadata": {
        "id": "l5e5Uc25UYZc"
      },
      "execution_count": null,
      "outputs": []
    },
    {
      "cell_type": "code",
      "source": [
        "for i in range(len(data_list)):\n",
        "  # Remoove HTML\n",
        "  data_list[i] = cleanhtml(data_list[i])\n",
        "  # Remove special charcters\n",
        "  data_list[i] = re.sub(r'[^a-zA-Z\\s\\.]+', ' ', data_list[i])\n",
        "  # Remove newline\n",
        "  data_list[i] = re.sub('\\n', ' ', data_list[i])\n",
        "  # Remove extra spaces\n",
        "  # data_list[i] = \" \".join(data_list[i].split())"
      ],
      "metadata": {
        "id": "lyyg-AzeMTMo"
      },
      "execution_count": null,
      "outputs": []
    },
    {
      "cell_type": "code",
      "source": [
        "# Combining everything into a single text\n",
        "text = \" \".join(data_list)"
      ],
      "metadata": {
        "id": "fH3YZQfVyLNg"
      },
      "execution_count": null,
      "outputs": []
    },
    {
      "cell_type": "markdown",
      "source": [
        "## 6. Text summarization\n",
        "* Summarize data into a single essay\n",
        "* Extractive Summarization"
      ],
      "metadata": {
        "id": "trumiY77MTzl"
      }
    },
    {
      "cell_type": "markdown",
      "source": [
        "Used TF-IDF Approach"
      ],
      "metadata": {
        "id": "eo8tBOOpVH3b"
      }
    },
    {
      "cell_type": "code",
      "source": [
        "# importing TfidfVectorizer class to convert a collection of raw documents to a matrix of TF-IDF features.\n",
        "from sklearn.feature_extraction.text import TfidfVectorizer\n",
        "\n",
        "# Import NLTK Libraries\n",
        "import nltk\n",
        "nltk.download('punkt')\n",
        "from nltk.tokenize import sent_tokenize\n",
        "\n",
        "# importing cosine_similarity function to compute the cosine similarity between two vectors.\n",
        "from sklearn.metrics.pairwise import cosine_similarity\n",
        "\n",
        "# importing nlargest to return the n largest elements from an iterable in descending order.\n",
        "from heapq import nlargest\n",
        "\n",
        "def generate_summary(text, n):\n",
        "  # Tokenize the text into individual sentences\n",
        "  sentences = sent_tokenize(text)\n",
        "\n",
        "  # Create the TF-IDF matrix\n",
        "  vectorizer = TfidfVectorizer(stop_words='english')\n",
        "  tfidf_matrix = vectorizer.fit_transform(sentences)\n",
        "\n",
        "  # Compute the cosine similarity between each sentence and the document\n",
        "  sentence_scores = cosine_similarity(tfidf_matrix[-1], tfidf_matrix[:-1])[0]\n",
        "\n",
        "  # Select the top n sentences with the highest scores\n",
        "  summary_sentences = nlargest(n, range(len(sentence_scores)), key=sentence_scores.__getitem__)\n",
        "  summary_tfidf = ' '.join([sentences[i] for i in sorted(summary_sentences)])\n",
        "\n",
        "  return summary_tfidf"
      ],
      "metadata": {
        "colab": {
          "base_uri": "https://localhost:8080/"
        },
        "id": "j0iZXeAgVGNr",
        "outputId": "ee48cfed-12aa-4938-bba5-481d3702895d"
      },
      "execution_count": null,
      "outputs": [
        {
          "output_type": "stream",
          "name": "stderr",
          "text": [
            "[nltk_data] Downloading package punkt to /root/nltk_data...\n",
            "[nltk_data]   Package punkt is already up-to-date!\n"
          ]
        }
      ]
    },
    {
      "cell_type": "code",
      "source": [
        "summary = generate_summary(text, 10)\n",
        "summary_sentences = summary.split('. ')\n",
        "summary_text = '.\\n'.join(summary_sentences)\n",
        "\n",
        "print(summary_text)"
      ],
      "metadata": {
        "colab": {
          "base_uri": "https://localhost:8080/"
        },
        "id": "Q8taXVn8Vl-0",
        "outputId": "33b7ee22-1f59-4d33-ae74-01a62d18bde4"
      },
      "execution_count": null,
      "outputs": [
        {
          "output_type": "stream",
          "name": "stdout",
          "text": [
            "scikit learn  .\n",
            ".\n",
            "Other versionsPlease cite us if you use the software.A random forest classifier.A random forest is a meta estimator that fits a number of decision tree classifiers on various sub samples of the dataset and uses averaging to improve the predictive accuracy and control over fitting.\n",
            "The sub sample size is controlled with the max samples parameter if bootstrap True  default  otherwise the whole dataset is used to build each tree.Read more in the User Guide.The number of trees in the forest.Changed in version  .\n",
            "The default value of n estimators changed from   to   in  .\n",
            ".The function to measure the quality of a split.\n",
            "Supported criteria are  gini  for the Gini impurity and  log loss  and  entropy  both for the Shannon information gain  see Mathematical formulation.\n",
            "Note  This parameter is tree specific.The maximum depth of the tree.\n",
            "In   Leo Breiman  link resides outside ibm.com   PDF    KB  introduced the bagging method  in this method  a random sample of data in a training set is selected with replacement meaning that the individual data points can be chosen more than once.\n",
            "Feature randomness  also known as feature bagging or  the random subspace method link resides outside ibm.com   PDF    KB  generates a random subset of features  which ensures low correlation among decision trees.\n"
          ]
        }
      ]
    },
    {
      "cell_type": "markdown",
      "source": [
        "Absractive summarization (Tried but didnt work)"
      ],
      "metadata": {
        "id": "2-s0MjP8WKY5"
      }
    },
    {
      "cell_type": "code",
      "source": [
        "# Install the Transformers library\n",
        "!pip install datsets transformers[sentencepiece]\n",
        "!pip install sentencepiece\n",
        "!pip install transformers"
      ],
      "metadata": {
        "colab": {
          "base_uri": "https://localhost:8080/"
        },
        "id": "u0SXqQYs6wt-",
        "outputId": "f9f31899-b542-473c-a473-ab2105fc7174"
      },
      "execution_count": null,
      "outputs": [
        {
          "output_type": "stream",
          "name": "stdout",
          "text": [
            "Looking in indexes: https://pypi.org/simple, https://us-python.pkg.dev/colab-wheels/public/simple/\n",
            "\u001b[31mERROR: Could not find a version that satisfies the requirement datsets (from versions: none)\u001b[0m\u001b[31m\n",
            "\u001b[0m\u001b[31mERROR: No matching distribution found for datsets\u001b[0m\u001b[31m\n",
            "\u001b[0mLooking in indexes: https://pypi.org/simple, https://us-python.pkg.dev/colab-wheels/public/simple/\n",
            "Collecting sentencepiece\n",
            "  Downloading sentencepiece-0.1.97-cp39-cp39-manylinux_2_17_x86_64.manylinux2014_x86_64.whl (1.3 MB)\n",
            "\u001b[2K     \u001b[90m━━━━━━━━━━━━━━━━━━━━━━━━━━━━━━━━━━━━━━━━\u001b[0m \u001b[32m1.3/1.3 MB\u001b[0m \u001b[31m16.0 MB/s\u001b[0m eta \u001b[36m0:00:00\u001b[0m\n",
            "\u001b[?25hInstalling collected packages: sentencepiece\n",
            "Successfully installed sentencepiece-0.1.97\n",
            "Looking in indexes: https://pypi.org/simple, https://us-python.pkg.dev/colab-wheels/public/simple/\n",
            "Collecting transformers\n",
            "  Downloading transformers-4.27.4-py3-none-any.whl (6.8 MB)\n",
            "\u001b[2K     \u001b[90m━━━━━━━━━━━━━━━━━━━━━━━━━━━━━━━━━━━━━━━━\u001b[0m \u001b[32m6.8/6.8 MB\u001b[0m \u001b[31m49.6 MB/s\u001b[0m eta \u001b[36m0:00:00\u001b[0m\n",
            "\u001b[?25hRequirement already satisfied: packaging>=20.0 in /usr/local/lib/python3.9/dist-packages (from transformers) (23.0)\n",
            "Collecting tokenizers!=0.11.3,<0.14,>=0.11.1\n",
            "  Downloading tokenizers-0.13.3-cp39-cp39-manylinux_2_17_x86_64.manylinux2014_x86_64.whl (7.8 MB)\n",
            "\u001b[2K     \u001b[90m━━━━━━━━━━━━━━━━━━━━━━━━━━━━━━━━━━━━━━━━\u001b[0m \u001b[32m7.8/7.8 MB\u001b[0m \u001b[31m49.0 MB/s\u001b[0m eta \u001b[36m0:00:00\u001b[0m\n",
            "\u001b[?25hRequirement already satisfied: pyyaml>=5.1 in /usr/local/lib/python3.9/dist-packages (from transformers) (6.0)\n",
            "Requirement already satisfied: requests in /usr/local/lib/python3.9/dist-packages (from transformers) (2.27.1)\n",
            "Requirement already satisfied: numpy>=1.17 in /usr/local/lib/python3.9/dist-packages (from transformers) (1.22.4)\n",
            "Requirement already satisfied: filelock in /usr/local/lib/python3.9/dist-packages (from transformers) (3.10.7)\n",
            "Requirement already satisfied: regex!=2019.12.17 in /usr/local/lib/python3.9/dist-packages (from transformers) (2022.10.31)\n",
            "Collecting huggingface-hub<1.0,>=0.11.0\n",
            "  Downloading huggingface_hub-0.13.4-py3-none-any.whl (200 kB)\n",
            "\u001b[2K     \u001b[90m━━━━━━━━━━━━━━━━━━━━━━━━━━━━━━━━━━━━━━\u001b[0m \u001b[32m200.1/200.1 KB\u001b[0m \u001b[31m21.9 MB/s\u001b[0m eta \u001b[36m0:00:00\u001b[0m\n",
            "\u001b[?25hRequirement already satisfied: tqdm>=4.27 in /usr/local/lib/python3.9/dist-packages (from transformers) (4.65.0)\n",
            "Requirement already satisfied: typing-extensions>=3.7.4.3 in /usr/local/lib/python3.9/dist-packages (from huggingface-hub<1.0,>=0.11.0->transformers) (4.5.0)\n",
            "Requirement already satisfied: idna<4,>=2.5 in /usr/local/lib/python3.9/dist-packages (from requests->transformers) (3.4)\n",
            "Requirement already satisfied: charset-normalizer~=2.0.0 in /usr/local/lib/python3.9/dist-packages (from requests->transformers) (2.0.12)\n",
            "Requirement already satisfied: certifi>=2017.4.17 in /usr/local/lib/python3.9/dist-packages (from requests->transformers) (2022.12.7)\n",
            "Requirement already satisfied: urllib3<1.27,>=1.21.1 in /usr/local/lib/python3.9/dist-packages (from requests->transformers) (1.26.15)\n",
            "Installing collected packages: tokenizers, huggingface-hub, transformers\n",
            "Successfully installed huggingface-hub-0.13.4 tokenizers-0.13.3 transformers-4.27.4\n"
          ]
        }
      ]
    },
    {
      "cell_type": "code",
      "source": [
        "# Import necessary modules\n",
        "import transformers\n",
        "from transformers import T5ForConditionalGeneration, T5Tokenizer\n",
        "\n",
        "# Load the T5 model and tokenizer\n",
        "model = T5ForConditionalGeneration.from_pretrained('t5-small')\n",
        "tokenizer = T5Tokenizer.from_pretrained(\"t5-small\")\n",
        "\n",
        "# Define the input text and the summary length\n",
        "max_length = 1000"
      ],
      "metadata": {
        "colab": {
          "base_uri": "https://localhost:8080/",
          "referenced_widgets": [
            "f350793d9e6b4ec39749845a63aedfe2",
            "388c324db00d424daff59e30b641895b",
            "af10b04dbf2f4bc39d8341cdf5b275e3",
            "d2e7aed46d404aeaaaa177fbdc491513",
            "7d4521cccc70411298aef1fd5fe11ca1",
            "d0304ec0fa794476aaf7721517eef33e",
            "15a4182657c344308ff5f8ad0e2d63b6",
            "b703cb1a5f78460581e1fcee53b4ab9e",
            "39d2e0ec7ede4e7a8d7e32c60100dd41",
            "3e1548ecdb63488b8abc8f90e44ef055",
            "a6619fd5ca134d3e84f53e9beae3370b",
            "7dd222f59def45499126c7a5903b5229",
            "b015f18d40df414788f764e92006d0fb",
            "f4c30519df154393abc8d9069e626a38",
            "cc69d1777eff49bf864029e4151684f7",
            "a7b8478dcc054990bd3247f29df772ea",
            "f65053a5ad654c5d8b2d0ce8f266303d",
            "6b2155944fb14469bff2205e9711d838",
            "2b872b19a3314000b3cd88d15536b7e3",
            "a939254c050c40f98cce583ab71d8bd9",
            "720ed108f4ee45ad9f5c313ac7fd4b6d",
            "0f392b8ef20e466d81038d73b9430596",
            "5351753907af440d8cd52b8cee16b6e5",
            "967f6436f5374b46af27273321b1aa55",
            "6643576221f44357a1d46ee1366abe78",
            "b0815c81dc4e4774abbe32143de11fa5",
            "21be4587076847f2a5e1b89cf00d7121",
            "ad2bb9d5662748b5927c04e1407f6ecc",
            "7cab4798ae7342bf8af55f92f7281b7d",
            "acf49332f6b941c29eeca70b68a5bdf5",
            "98d9d524ecf14949829d9b050cb05da3",
            "f7b9584bc8a94c3ebcdd439e4684c434",
            "94031f09ec8b4b63a30896fa3d0d923b",
            "bb04e4f4af034db6acbfec44d8345678",
            "4228a3d33a36468fa74239b13cab7463",
            "0022e45f73d84d68afc0561dc05ea075",
            "ef76e5a063ff45f49fc7b53b01ed9496",
            "ee5fb07c65964676b5b30813ae708395",
            "c9771bc7c52e4d2eaa7c2e5ca1259548",
            "d168933ae1d84b55a4adffb5b741b5fd",
            "216ef1e9930142f2bc9d19a343c16994",
            "20d5e64393814f8a99c39139c93574b4",
            "f135bc1e92024278a6b05e9971899b6a",
            "d12db7c5051a4f6fa4e35092a39de5e2"
          ]
        },
        "id": "XjNJeY8O51vx",
        "outputId": "113f5c36-35d7-455c-c24e-0cf2e252598b"
      },
      "execution_count": null,
      "outputs": [
        {
          "output_type": "display_data",
          "data": {
            "text/plain": [
              "Downloading (…)lve/main/config.json:   0%|          | 0.00/1.21k [00:00<?, ?B/s]"
            ],
            "application/vnd.jupyter.widget-view+json": {
              "version_major": 2,
              "version_minor": 0,
              "model_id": "f350793d9e6b4ec39749845a63aedfe2"
            }
          },
          "metadata": {}
        },
        {
          "output_type": "display_data",
          "data": {
            "text/plain": [
              "Downloading pytorch_model.bin:   0%|          | 0.00/242M [00:00<?, ?B/s]"
            ],
            "application/vnd.jupyter.widget-view+json": {
              "version_major": 2,
              "version_minor": 0,
              "model_id": "7dd222f59def45499126c7a5903b5229"
            }
          },
          "metadata": {}
        },
        {
          "output_type": "display_data",
          "data": {
            "text/plain": [
              "Downloading (…)neration_config.json:   0%|          | 0.00/147 [00:00<?, ?B/s]"
            ],
            "application/vnd.jupyter.widget-view+json": {
              "version_major": 2,
              "version_minor": 0,
              "model_id": "5351753907af440d8cd52b8cee16b6e5"
            }
          },
          "metadata": {}
        },
        {
          "output_type": "display_data",
          "data": {
            "text/plain": [
              "Downloading (…)ve/main/spiece.model:   0%|          | 0.00/792k [00:00<?, ?B/s]"
            ],
            "application/vnd.jupyter.widget-view+json": {
              "version_major": 2,
              "version_minor": 0,
              "model_id": "bb04e4f4af034db6acbfec44d8345678"
            }
          },
          "metadata": {}
        },
        {
          "output_type": "stream",
          "name": "stderr",
          "text": [
            "/usr/local/lib/python3.9/dist-packages/transformers/models/t5/tokenization_t5.py:163: FutureWarning: This tokenizer was incorrectly instantiated with a model max length of 512 which will be corrected in Transformers v5.\n",
            "For now, this behavior is kept to avoid breaking backwards compatibility when padding/encoding with `truncation is True`.\n",
            "- Be aware that you SHOULD NOT rely on t5-small automatically truncating your input to 512 when padding/encoding.\n",
            "- If you want to encode/pad to sequences longer than 512 you can either instantiate this tokenizer with `model_max_length` or pass `max_length` when encoding/padding.\n",
            "- To avoid this warning, please instantiate this tokenizer with `model_max_length` set to your preferred value.\n",
            "  warnings.warn(\n"
          ]
        }
      ]
    },
    {
      "cell_type": "code",
      "source": [
        "# Preprocess the text and encode it as input for the model\n",
        "input_text = \"summarize: \" + text\n",
        "input_ids = tokenizer.encode(input_text, truncation=True, max_length=512,return_tensors='pt')\n",
        "\n",
        "# Generate a summary\n",
        "summary = model.generate(input_ids, min_length = 500, max_length=max_length)"
      ],
      "metadata": {
        "id": "AFA3oBCq66Wm"
      },
      "execution_count": null,
      "outputs": []
    },
    {
      "cell_type": "code",
      "source": [
        "# Decode the summary\n",
        "summary_text = tokenizer.decode(summary[0], skip_special_tokens=True)\n",
        "print(summary_text)"
      ],
      "metadata": {
        "colab": {
          "base_uri": "https://localhost:8080/"
        },
        "id": "3eYfh3lz69QP",
        "outputId": "bb1e19ff-53e2-4122-f391-ee3c01444971"
      },
      "execution_count": null,
      "outputs": [
        {
          "output_type": "stream",
          "name": "stdout",
          "text": [
            "data mining is the process of uncovering patterns and other valuable information from large data sets. the technology has accelerated over the last couple of decades. data mining techniques can be divided into two main purposes. they can either describe the target dataset or predict outcomes through the use of machine learning algorithms. data mining techniques are used to organize and filter data surfacing the most interesting information from fraud detection to user behaviors bottlenecks. the data mining process involves a number of steps from data collection to visualization to extract valuable information from large data sets......................... the... the... the.. the.................... the data mining...........................................................................................................................................\n"
          ]
        }
      ]
    },
    {
      "cell_type": "markdown",
      "source": [
        "## 7. Document generation\n",
        "* generate a docx file with title, content and references"
      ],
      "metadata": {
        "id": "2Ehg28zwMiUU"
      }
    },
    {
      "cell_type": "code",
      "source": [
        "!pip install python-docx"
      ],
      "metadata": {
        "colab": {
          "base_uri": "https://localhost:8080/"
        },
        "id": "ciEdO6EtLh-7",
        "outputId": "c0e60979-fc68-407d-f44a-c9a573fe9875"
      },
      "execution_count": null,
      "outputs": [
        {
          "output_type": "stream",
          "name": "stdout",
          "text": [
            "Looking in indexes: https://pypi.org/simple, https://us-python.pkg.dev/colab-wheels/public/simple/\n",
            "Collecting python-docx\n",
            "  Downloading python-docx-0.8.11.tar.gz (5.6 MB)\n",
            "\u001b[2K     \u001b[90m━━━━━━━━━━━━━━━━━━━━━━━━━━━━━━━━━━━━━━━━\u001b[0m \u001b[32m5.6/5.6 MB\u001b[0m \u001b[31m36.2 MB/s\u001b[0m eta \u001b[36m0:00:00\u001b[0m\n",
            "\u001b[?25h  Preparing metadata (setup.py) ... \u001b[?25l\u001b[?25hdone\n",
            "Requirement already satisfied: lxml>=2.3.2 in /usr/local/lib/python3.9/dist-packages (from python-docx) (4.9.2)\n",
            "Building wheels for collected packages: python-docx\n",
            "  Building wheel for python-docx (setup.py) ... \u001b[?25l\u001b[?25hdone\n",
            "  Created wheel for python-docx: filename=python_docx-0.8.11-py3-none-any.whl size=184505 sha256=b9999824135c170f027ead801a50e2d0de2ec16018db07bb5d374d31fd61b882\n",
            "  Stored in directory: /root/.cache/pip/wheels/83/8b/7c/09ae60c42c7ba4ed2dddaf2b8b9186cb105255856d6ed3dba5\n",
            "Successfully built python-docx\n",
            "Installing collected packages: python-docx\n",
            "Successfully installed python-docx-0.8.11\n"
          ]
        }
      ]
    },
    {
      "cell_type": "code",
      "source": [
        "# create a new Word document\n",
        "from docx import Document\n",
        "from docx.shared import Inches\n",
        "document = Document()"
      ],
      "metadata": {
        "id": "v8I94OdSMtXD"
      },
      "execution_count": null,
      "outputs": []
    },
    {
      "cell_type": "code",
      "source": [
        "# add the summary to the Word document\n",
        "document.add_heading(search_term,0)\n",
        "document.add_paragraph(summary_text)"
      ],
      "metadata": {
        "id": "-f7NppxNcnhX",
        "colab": {
          "base_uri": "https://localhost:8080/"
        },
        "outputId": "8468e6b8-02c5-4050-8c55-5e8c93c31d5f"
      },
      "execution_count": null,
      "outputs": [
        {
          "output_type": "execute_result",
          "data": {
            "text/plain": [
              "<docx.text.paragraph.Paragraph at 0x7f0936b7b250>"
            ]
          },
          "metadata": {},
          "execution_count": 59
        }
      ]
    },
    {
      "cell_type": "code",
      "source": [
        "# add the references to the Word document\n",
        "document.add_heading(\"References\",level = 2)\n",
        "count = 1\n",
        "for url in url_list:\n",
        "  temp_text =  str(count) + \". \" + url\n",
        "  document.add_paragraph(temp_text)\n",
        "  count+=1"
      ],
      "metadata": {
        "id": "wPjvX5nxMtJI"
      },
      "execution_count": null,
      "outputs": []
    },
    {
      "cell_type": "code",
      "source": [
        "# save the Word document\n",
        "# save the Word document\n",
        "document.save(\"{}.docx\".format(search_term))"
      ],
      "metadata": {
        "id": "WjYK7coSMtDR"
      },
      "execution_count": null,
      "outputs": []
    }
  ]
}